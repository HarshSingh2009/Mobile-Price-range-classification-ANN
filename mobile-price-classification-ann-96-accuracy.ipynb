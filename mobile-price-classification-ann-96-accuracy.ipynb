{
 "cells": [
  {
   "cell_type": "markdown",
   "id": "2d071af0",
   "metadata": {
    "papermill": {
     "duration": 0.015272,
     "end_time": "2023-08-03T10:30:01.969702",
     "exception": false,
     "start_time": "2023-08-03T10:30:01.954430",
     "status": "completed"
    },
    "tags": []
   },
   "source": [
    "# **Mobile Price Classification**\n",
    "In this Project we are going to classify mobiles into price ranges / classes from 0 to 3.\n",
    "We predict which class does the mobile pricee fall under with various inputs for the mobile like ```Bluetooth?``` , ```WIFI?``` , ```4G``` , ```Touch Screen```, ```Clock Speed``` , ```Dual Sim?``` , ```Memory```, ```Width of Mobile``` and many more"
   ]
  },
  {
   "cell_type": "code",
   "execution_count": 1,
   "id": "ed61300e",
   "metadata": {
    "execution": {
     "iopub.execute_input": "2023-08-03T10:30:02.001384Z",
     "iopub.status.busy": "2023-08-03T10:30:02.000604Z",
     "iopub.status.idle": "2023-08-03T10:30:10.148253Z",
     "shell.execute_reply": "2023-08-03T10:30:10.147263Z"
    },
    "papermill": {
     "duration": 8.166138,
     "end_time": "2023-08-03T10:30:10.150700",
     "exception": false,
     "start_time": "2023-08-03T10:30:01.984562",
     "status": "completed"
    },
    "tags": []
   },
   "outputs": [
    {
     "name": "stderr",
     "output_type": "stream",
     "text": [
      "/opt/conda/lib/python3.10/site-packages/scipy/__init__.py:146: UserWarning: A NumPy version >=1.16.5 and <1.23.0 is required for this version of SciPy (detected version 1.23.5\n",
      "  warnings.warn(f\"A NumPy version >={np_minversion} and <{np_maxversion}\"\n",
      "/opt/conda/lib/python3.10/site-packages/tensorflow_io/python/ops/__init__.py:98: UserWarning: unable to load libtensorflow_io_plugins.so: unable to open file: libtensorflow_io_plugins.so, from paths: ['/opt/conda/lib/python3.10/site-packages/tensorflow_io/python/ops/libtensorflow_io_plugins.so']\n",
      "caused by: ['/opt/conda/lib/python3.10/site-packages/tensorflow_io/python/ops/libtensorflow_io_plugins.so: undefined symbol: _ZN3tsl6StatusC1EN10tensorflow5error4CodeESt17basic_string_viewIcSt11char_traitsIcEENS_14SourceLocationE']\n",
      "  warnings.warn(f\"unable to load libtensorflow_io_plugins.so: {e}\")\n",
      "/opt/conda/lib/python3.10/site-packages/tensorflow_io/python/ops/__init__.py:104: UserWarning: file system plugins are not loaded: unable to open file: libtensorflow_io.so, from paths: ['/opt/conda/lib/python3.10/site-packages/tensorflow_io/python/ops/libtensorflow_io.so']\n",
      "caused by: ['/opt/conda/lib/python3.10/site-packages/tensorflow_io/python/ops/libtensorflow_io.so: undefined symbol: _ZTVN10tensorflow13GcsFileSystemE']\n",
      "  warnings.warn(f\"file system plugins are not loaded: {e}\")\n"
     ]
    }
   ],
   "source": [
    "import numpy as np\n",
    "import matplotlib.pyplot as plt\n",
    "import tensorflow as tf\n",
    "import pandas as pd"
   ]
  },
  {
   "cell_type": "markdown",
   "id": "9f79081e",
   "metadata": {
    "papermill": {
     "duration": 0.014638,
     "end_time": "2023-08-03T10:30:10.180454",
     "exception": false,
     "start_time": "2023-08-03T10:30:10.165816",
     "status": "completed"
    },
    "tags": []
   },
   "source": [
    "## Loading and Viewing our data"
   ]
  },
  {
   "cell_type": "code",
   "execution_count": 2,
   "id": "3a80ce7a",
   "metadata": {
    "execution": {
     "iopub.execute_input": "2023-08-03T10:30:10.212713Z",
     "iopub.status.busy": "2023-08-03T10:30:10.210924Z",
     "iopub.status.idle": "2023-08-03T10:30:10.249945Z",
     "shell.execute_reply": "2023-08-03T10:30:10.249066Z"
    },
    "papermill": {
     "duration": 0.057285,
     "end_time": "2023-08-03T10:30:10.252397",
     "exception": false,
     "start_time": "2023-08-03T10:30:10.195112",
     "status": "completed"
    },
    "tags": []
   },
   "outputs": [],
   "source": [
    "train_df = pd.read_csv('/kaggle/input/mobile-price-classification/train.csv')\n",
    "test_df = pd.read_csv('/kaggle/input/mobile-price-classification/test.csv')"
   ]
  },
  {
   "cell_type": "code",
   "execution_count": 3,
   "id": "c3805f71",
   "metadata": {
    "execution": {
     "iopub.execute_input": "2023-08-03T10:30:10.284259Z",
     "iopub.status.busy": "2023-08-03T10:30:10.283953Z",
     "iopub.status.idle": "2023-08-03T10:30:10.314034Z",
     "shell.execute_reply": "2023-08-03T10:30:10.312968Z"
    },
    "papermill": {
     "duration": 0.049584,
     "end_time": "2023-08-03T10:30:10.316685",
     "exception": false,
     "start_time": "2023-08-03T10:30:10.267101",
     "status": "completed"
    },
    "tags": []
   },
   "outputs": [
    {
     "data": {
      "text/html": [
       "<div>\n",
       "<style scoped>\n",
       "    .dataframe tbody tr th:only-of-type {\n",
       "        vertical-align: middle;\n",
       "    }\n",
       "\n",
       "    .dataframe tbody tr th {\n",
       "        vertical-align: top;\n",
       "    }\n",
       "\n",
       "    .dataframe thead th {\n",
       "        text-align: right;\n",
       "    }\n",
       "</style>\n",
       "<table border=\"1\" class=\"dataframe\">\n",
       "  <thead>\n",
       "    <tr style=\"text-align: right;\">\n",
       "      <th></th>\n",
       "      <th>battery_power</th>\n",
       "      <th>blue</th>\n",
       "      <th>clock_speed</th>\n",
       "      <th>dual_sim</th>\n",
       "      <th>fc</th>\n",
       "      <th>four_g</th>\n",
       "      <th>int_memory</th>\n",
       "      <th>m_dep</th>\n",
       "      <th>mobile_wt</th>\n",
       "      <th>n_cores</th>\n",
       "      <th>...</th>\n",
       "      <th>px_height</th>\n",
       "      <th>px_width</th>\n",
       "      <th>ram</th>\n",
       "      <th>sc_h</th>\n",
       "      <th>sc_w</th>\n",
       "      <th>talk_time</th>\n",
       "      <th>three_g</th>\n",
       "      <th>touch_screen</th>\n",
       "      <th>wifi</th>\n",
       "      <th>price_range</th>\n",
       "    </tr>\n",
       "  </thead>\n",
       "  <tbody>\n",
       "    <tr>\n",
       "      <th>0</th>\n",
       "      <td>842</td>\n",
       "      <td>0</td>\n",
       "      <td>2.2</td>\n",
       "      <td>0</td>\n",
       "      <td>1</td>\n",
       "      <td>0</td>\n",
       "      <td>7</td>\n",
       "      <td>0.6</td>\n",
       "      <td>188</td>\n",
       "      <td>2</td>\n",
       "      <td>...</td>\n",
       "      <td>20</td>\n",
       "      <td>756</td>\n",
       "      <td>2549</td>\n",
       "      <td>9</td>\n",
       "      <td>7</td>\n",
       "      <td>19</td>\n",
       "      <td>0</td>\n",
       "      <td>0</td>\n",
       "      <td>1</td>\n",
       "      <td>1</td>\n",
       "    </tr>\n",
       "    <tr>\n",
       "      <th>1</th>\n",
       "      <td>1021</td>\n",
       "      <td>1</td>\n",
       "      <td>0.5</td>\n",
       "      <td>1</td>\n",
       "      <td>0</td>\n",
       "      <td>1</td>\n",
       "      <td>53</td>\n",
       "      <td>0.7</td>\n",
       "      <td>136</td>\n",
       "      <td>3</td>\n",
       "      <td>...</td>\n",
       "      <td>905</td>\n",
       "      <td>1988</td>\n",
       "      <td>2631</td>\n",
       "      <td>17</td>\n",
       "      <td>3</td>\n",
       "      <td>7</td>\n",
       "      <td>1</td>\n",
       "      <td>1</td>\n",
       "      <td>0</td>\n",
       "      <td>2</td>\n",
       "    </tr>\n",
       "    <tr>\n",
       "      <th>2</th>\n",
       "      <td>563</td>\n",
       "      <td>1</td>\n",
       "      <td>0.5</td>\n",
       "      <td>1</td>\n",
       "      <td>2</td>\n",
       "      <td>1</td>\n",
       "      <td>41</td>\n",
       "      <td>0.9</td>\n",
       "      <td>145</td>\n",
       "      <td>5</td>\n",
       "      <td>...</td>\n",
       "      <td>1263</td>\n",
       "      <td>1716</td>\n",
       "      <td>2603</td>\n",
       "      <td>11</td>\n",
       "      <td>2</td>\n",
       "      <td>9</td>\n",
       "      <td>1</td>\n",
       "      <td>1</td>\n",
       "      <td>0</td>\n",
       "      <td>2</td>\n",
       "    </tr>\n",
       "    <tr>\n",
       "      <th>3</th>\n",
       "      <td>615</td>\n",
       "      <td>1</td>\n",
       "      <td>2.5</td>\n",
       "      <td>0</td>\n",
       "      <td>0</td>\n",
       "      <td>0</td>\n",
       "      <td>10</td>\n",
       "      <td>0.8</td>\n",
       "      <td>131</td>\n",
       "      <td>6</td>\n",
       "      <td>...</td>\n",
       "      <td>1216</td>\n",
       "      <td>1786</td>\n",
       "      <td>2769</td>\n",
       "      <td>16</td>\n",
       "      <td>8</td>\n",
       "      <td>11</td>\n",
       "      <td>1</td>\n",
       "      <td>0</td>\n",
       "      <td>0</td>\n",
       "      <td>2</td>\n",
       "    </tr>\n",
       "    <tr>\n",
       "      <th>4</th>\n",
       "      <td>1821</td>\n",
       "      <td>1</td>\n",
       "      <td>1.2</td>\n",
       "      <td>0</td>\n",
       "      <td>13</td>\n",
       "      <td>1</td>\n",
       "      <td>44</td>\n",
       "      <td>0.6</td>\n",
       "      <td>141</td>\n",
       "      <td>2</td>\n",
       "      <td>...</td>\n",
       "      <td>1208</td>\n",
       "      <td>1212</td>\n",
       "      <td>1411</td>\n",
       "      <td>8</td>\n",
       "      <td>2</td>\n",
       "      <td>15</td>\n",
       "      <td>1</td>\n",
       "      <td>1</td>\n",
       "      <td>0</td>\n",
       "      <td>1</td>\n",
       "    </tr>\n",
       "  </tbody>\n",
       "</table>\n",
       "<p>5 rows × 21 columns</p>\n",
       "</div>"
      ],
      "text/plain": [
       "   battery_power  blue  clock_speed  dual_sim  fc  four_g  int_memory  m_dep  \\\n",
       "0            842     0          2.2         0   1       0           7    0.6   \n",
       "1           1021     1          0.5         1   0       1          53    0.7   \n",
       "2            563     1          0.5         1   2       1          41    0.9   \n",
       "3            615     1          2.5         0   0       0          10    0.8   \n",
       "4           1821     1          1.2         0  13       1          44    0.6   \n",
       "\n",
       "   mobile_wt  n_cores  ...  px_height  px_width   ram  sc_h  sc_w  talk_time  \\\n",
       "0        188        2  ...         20       756  2549     9     7         19   \n",
       "1        136        3  ...        905      1988  2631    17     3          7   \n",
       "2        145        5  ...       1263      1716  2603    11     2          9   \n",
       "3        131        6  ...       1216      1786  2769    16     8         11   \n",
       "4        141        2  ...       1208      1212  1411     8     2         15   \n",
       "\n",
       "   three_g  touch_screen  wifi  price_range  \n",
       "0        0             0     1            1  \n",
       "1        1             1     0            2  \n",
       "2        1             1     0            2  \n",
       "3        1             0     0            2  \n",
       "4        1             1     0            1  \n",
       "\n",
       "[5 rows x 21 columns]"
      ]
     },
     "execution_count": 3,
     "metadata": {},
     "output_type": "execute_result"
    }
   ],
   "source": [
    "train_df.head()"
   ]
  },
  {
   "cell_type": "code",
   "execution_count": 4,
   "id": "723f7bec",
   "metadata": {
    "execution": {
     "iopub.execute_input": "2023-08-03T10:30:10.350992Z",
     "iopub.status.busy": "2023-08-03T10:30:10.350710Z",
     "iopub.status.idle": "2023-08-03T10:30:10.357142Z",
     "shell.execute_reply": "2023-08-03T10:30:10.356121Z"
    },
    "papermill": {
     "duration": 0.02784,
     "end_time": "2023-08-03T10:30:10.360258",
     "exception": false,
     "start_time": "2023-08-03T10:30:10.332418",
     "status": "completed"
    },
    "tags": []
   },
   "outputs": [
    {
     "data": {
      "text/plain": [
       "Index(['battery_power', 'blue', 'clock_speed', 'dual_sim', 'fc', 'four_g',\n",
       "       'int_memory', 'm_dep', 'mobile_wt', 'n_cores', 'pc', 'px_height',\n",
       "       'px_width', 'ram', 'sc_h', 'sc_w', 'talk_time', 'three_g',\n",
       "       'touch_screen', 'wifi', 'price_range'],\n",
       "      dtype='object')"
      ]
     },
     "execution_count": 4,
     "metadata": {},
     "output_type": "execute_result"
    }
   ],
   "source": [
    "train_df.columns"
   ]
  },
  {
   "cell_type": "markdown",
   "id": "1de31131",
   "metadata": {
    "papermill": {
     "duration": 0.01514,
     "end_time": "2023-08-03T10:30:10.390867",
     "exception": false,
     "start_time": "2023-08-03T10:30:10.375727",
     "status": "completed"
    },
    "tags": []
   },
   "source": [
    "## Data Exploratory Analysis"
   ]
  },
  {
   "cell_type": "code",
   "execution_count": 5,
   "id": "cae97f81",
   "metadata": {
    "execution": {
     "iopub.execute_input": "2023-08-03T10:30:10.423180Z",
     "iopub.status.busy": "2023-08-03T10:30:10.422916Z",
     "iopub.status.idle": "2023-08-03T10:30:10.428838Z",
     "shell.execute_reply": "2023-08-03T10:30:10.427805Z"
    },
    "papermill": {
     "duration": 0.025715,
     "end_time": "2023-08-03T10:30:10.431881",
     "exception": false,
     "start_time": "2023-08-03T10:30:10.406166",
     "status": "completed"
    },
    "tags": []
   },
   "outputs": [
    {
     "data": {
      "text/plain": [
       "(2000, 21)"
      ]
     },
     "execution_count": 5,
     "metadata": {},
     "output_type": "execute_result"
    }
   ],
   "source": [
    "train_df.shape"
   ]
  },
  {
   "cell_type": "code",
   "execution_count": 6,
   "id": "454d514a",
   "metadata": {
    "execution": {
     "iopub.execute_input": "2023-08-03T10:30:10.464884Z",
     "iopub.status.busy": "2023-08-03T10:30:10.464575Z",
     "iopub.status.idle": "2023-08-03T10:30:10.473127Z",
     "shell.execute_reply": "2023-08-03T10:30:10.472084Z"
    },
    "papermill": {
     "duration": 0.027452,
     "end_time": "2023-08-03T10:30:10.475266",
     "exception": false,
     "start_time": "2023-08-03T10:30:10.447814",
     "status": "completed"
    },
    "tags": []
   },
   "outputs": [
    {
     "data": {
      "text/plain": [
       "battery_power    0\n",
       "blue             0\n",
       "clock_speed      0\n",
       "dual_sim         0\n",
       "fc               0\n",
       "four_g           0\n",
       "int_memory       0\n",
       "m_dep            0\n",
       "mobile_wt        0\n",
       "n_cores          0\n",
       "pc               0\n",
       "px_height        0\n",
       "px_width         0\n",
       "ram              0\n",
       "sc_h             0\n",
       "sc_w             0\n",
       "talk_time        0\n",
       "three_g          0\n",
       "touch_screen     0\n",
       "wifi             0\n",
       "price_range      0\n",
       "dtype: int64"
      ]
     },
     "execution_count": 6,
     "metadata": {},
     "output_type": "execute_result"
    }
   ],
   "source": [
    "# checking for Null Values\n",
    "train_df.isnull().sum()"
   ]
  },
  {
   "cell_type": "code",
   "execution_count": 7,
   "id": "dfc435f5",
   "metadata": {
    "execution": {
     "iopub.execute_input": "2023-08-03T10:30:10.509102Z",
     "iopub.status.busy": "2023-08-03T10:30:10.508779Z",
     "iopub.status.idle": "2023-08-03T10:30:10.524002Z",
     "shell.execute_reply": "2023-08-03T10:30:10.523134Z"
    },
    "papermill": {
     "duration": 0.034934,
     "end_time": "2023-08-03T10:30:10.526168",
     "exception": false,
     "start_time": "2023-08-03T10:30:10.491234",
     "status": "completed"
    },
    "tags": []
   },
   "outputs": [
    {
     "data": {
      "text/plain": [
       "0"
      ]
     },
     "execution_count": 7,
     "metadata": {},
     "output_type": "execute_result"
    }
   ],
   "source": [
    "train_df.duplicated().sum()"
   ]
  },
  {
   "cell_type": "code",
   "execution_count": 8,
   "id": "2f07edce",
   "metadata": {
    "execution": {
     "iopub.execute_input": "2023-08-03T10:30:10.559785Z",
     "iopub.status.busy": "2023-08-03T10:30:10.558382Z",
     "iopub.status.idle": "2023-08-03T10:30:10.574108Z",
     "shell.execute_reply": "2023-08-03T10:30:10.572360Z"
    },
    "papermill": {
     "duration": 0.034603,
     "end_time": "2023-08-03T10:30:10.576214",
     "exception": false,
     "start_time": "2023-08-03T10:30:10.541611",
     "status": "completed"
    },
    "tags": []
   },
   "outputs": [
    {
     "name": "stdout",
     "output_type": "stream",
     "text": [
      "<class 'pandas.core.frame.DataFrame'>\n",
      "RangeIndex: 2000 entries, 0 to 1999\n",
      "Data columns (total 21 columns):\n",
      " #   Column         Non-Null Count  Dtype  \n",
      "---  ------         --------------  -----  \n",
      " 0   battery_power  2000 non-null   int64  \n",
      " 1   blue           2000 non-null   int64  \n",
      " 2   clock_speed    2000 non-null   float64\n",
      " 3   dual_sim       2000 non-null   int64  \n",
      " 4   fc             2000 non-null   int64  \n",
      " 5   four_g         2000 non-null   int64  \n",
      " 6   int_memory     2000 non-null   int64  \n",
      " 7   m_dep          2000 non-null   float64\n",
      " 8   mobile_wt      2000 non-null   int64  \n",
      " 9   n_cores        2000 non-null   int64  \n",
      " 10  pc             2000 non-null   int64  \n",
      " 11  px_height      2000 non-null   int64  \n",
      " 12  px_width       2000 non-null   int64  \n",
      " 13  ram            2000 non-null   int64  \n",
      " 14  sc_h           2000 non-null   int64  \n",
      " 15  sc_w           2000 non-null   int64  \n",
      " 16  talk_time      2000 non-null   int64  \n",
      " 17  three_g        2000 non-null   int64  \n",
      " 18  touch_screen   2000 non-null   int64  \n",
      " 19  wifi           2000 non-null   int64  \n",
      " 20  price_range    2000 non-null   int64  \n",
      "dtypes: float64(2), int64(19)\n",
      "memory usage: 328.2 KB\n"
     ]
    }
   ],
   "source": [
    "train_df.info()"
   ]
  },
  {
   "cell_type": "code",
   "execution_count": 9,
   "id": "b838eae5",
   "metadata": {
    "execution": {
     "iopub.execute_input": "2023-08-03T10:30:10.609764Z",
     "iopub.status.busy": "2023-08-03T10:30:10.608925Z",
     "iopub.status.idle": "2023-08-03T10:30:10.680216Z",
     "shell.execute_reply": "2023-08-03T10:30:10.679371Z"
    },
    "papermill": {
     "duration": 0.090182,
     "end_time": "2023-08-03T10:30:10.682443",
     "exception": false,
     "start_time": "2023-08-03T10:30:10.592261",
     "status": "completed"
    },
    "tags": []
   },
   "outputs": [
    {
     "data": {
      "text/html": [
       "<div>\n",
       "<style scoped>\n",
       "    .dataframe tbody tr th:only-of-type {\n",
       "        vertical-align: middle;\n",
       "    }\n",
       "\n",
       "    .dataframe tbody tr th {\n",
       "        vertical-align: top;\n",
       "    }\n",
       "\n",
       "    .dataframe thead th {\n",
       "        text-align: right;\n",
       "    }\n",
       "</style>\n",
       "<table border=\"1\" class=\"dataframe\">\n",
       "  <thead>\n",
       "    <tr style=\"text-align: right;\">\n",
       "      <th></th>\n",
       "      <th>battery_power</th>\n",
       "      <th>blue</th>\n",
       "      <th>clock_speed</th>\n",
       "      <th>dual_sim</th>\n",
       "      <th>fc</th>\n",
       "      <th>four_g</th>\n",
       "      <th>int_memory</th>\n",
       "      <th>m_dep</th>\n",
       "      <th>mobile_wt</th>\n",
       "      <th>n_cores</th>\n",
       "      <th>...</th>\n",
       "      <th>px_height</th>\n",
       "      <th>px_width</th>\n",
       "      <th>ram</th>\n",
       "      <th>sc_h</th>\n",
       "      <th>sc_w</th>\n",
       "      <th>talk_time</th>\n",
       "      <th>three_g</th>\n",
       "      <th>touch_screen</th>\n",
       "      <th>wifi</th>\n",
       "      <th>price_range</th>\n",
       "    </tr>\n",
       "  </thead>\n",
       "  <tbody>\n",
       "    <tr>\n",
       "      <th>count</th>\n",
       "      <td>2000.000000</td>\n",
       "      <td>2000.0000</td>\n",
       "      <td>2000.000000</td>\n",
       "      <td>2000.000000</td>\n",
       "      <td>2000.000000</td>\n",
       "      <td>2000.000000</td>\n",
       "      <td>2000.000000</td>\n",
       "      <td>2000.000000</td>\n",
       "      <td>2000.000000</td>\n",
       "      <td>2000.000000</td>\n",
       "      <td>...</td>\n",
       "      <td>2000.000000</td>\n",
       "      <td>2000.000000</td>\n",
       "      <td>2000.000000</td>\n",
       "      <td>2000.000000</td>\n",
       "      <td>2000.000000</td>\n",
       "      <td>2000.000000</td>\n",
       "      <td>2000.000000</td>\n",
       "      <td>2000.000000</td>\n",
       "      <td>2000.000000</td>\n",
       "      <td>2000.000000</td>\n",
       "    </tr>\n",
       "    <tr>\n",
       "      <th>mean</th>\n",
       "      <td>1238.518500</td>\n",
       "      <td>0.4950</td>\n",
       "      <td>1.522250</td>\n",
       "      <td>0.509500</td>\n",
       "      <td>4.309500</td>\n",
       "      <td>0.521500</td>\n",
       "      <td>32.046500</td>\n",
       "      <td>0.501750</td>\n",
       "      <td>140.249000</td>\n",
       "      <td>4.520500</td>\n",
       "      <td>...</td>\n",
       "      <td>645.108000</td>\n",
       "      <td>1251.515500</td>\n",
       "      <td>2124.213000</td>\n",
       "      <td>12.306500</td>\n",
       "      <td>5.767000</td>\n",
       "      <td>11.011000</td>\n",
       "      <td>0.761500</td>\n",
       "      <td>0.503000</td>\n",
       "      <td>0.507000</td>\n",
       "      <td>1.500000</td>\n",
       "    </tr>\n",
       "    <tr>\n",
       "      <th>std</th>\n",
       "      <td>439.418206</td>\n",
       "      <td>0.5001</td>\n",
       "      <td>0.816004</td>\n",
       "      <td>0.500035</td>\n",
       "      <td>4.341444</td>\n",
       "      <td>0.499662</td>\n",
       "      <td>18.145715</td>\n",
       "      <td>0.288416</td>\n",
       "      <td>35.399655</td>\n",
       "      <td>2.287837</td>\n",
       "      <td>...</td>\n",
       "      <td>443.780811</td>\n",
       "      <td>432.199447</td>\n",
       "      <td>1084.732044</td>\n",
       "      <td>4.213245</td>\n",
       "      <td>4.356398</td>\n",
       "      <td>5.463955</td>\n",
       "      <td>0.426273</td>\n",
       "      <td>0.500116</td>\n",
       "      <td>0.500076</td>\n",
       "      <td>1.118314</td>\n",
       "    </tr>\n",
       "    <tr>\n",
       "      <th>min</th>\n",
       "      <td>501.000000</td>\n",
       "      <td>0.0000</td>\n",
       "      <td>0.500000</td>\n",
       "      <td>0.000000</td>\n",
       "      <td>0.000000</td>\n",
       "      <td>0.000000</td>\n",
       "      <td>2.000000</td>\n",
       "      <td>0.100000</td>\n",
       "      <td>80.000000</td>\n",
       "      <td>1.000000</td>\n",
       "      <td>...</td>\n",
       "      <td>0.000000</td>\n",
       "      <td>500.000000</td>\n",
       "      <td>256.000000</td>\n",
       "      <td>5.000000</td>\n",
       "      <td>0.000000</td>\n",
       "      <td>2.000000</td>\n",
       "      <td>0.000000</td>\n",
       "      <td>0.000000</td>\n",
       "      <td>0.000000</td>\n",
       "      <td>0.000000</td>\n",
       "    </tr>\n",
       "    <tr>\n",
       "      <th>25%</th>\n",
       "      <td>851.750000</td>\n",
       "      <td>0.0000</td>\n",
       "      <td>0.700000</td>\n",
       "      <td>0.000000</td>\n",
       "      <td>1.000000</td>\n",
       "      <td>0.000000</td>\n",
       "      <td>16.000000</td>\n",
       "      <td>0.200000</td>\n",
       "      <td>109.000000</td>\n",
       "      <td>3.000000</td>\n",
       "      <td>...</td>\n",
       "      <td>282.750000</td>\n",
       "      <td>874.750000</td>\n",
       "      <td>1207.500000</td>\n",
       "      <td>9.000000</td>\n",
       "      <td>2.000000</td>\n",
       "      <td>6.000000</td>\n",
       "      <td>1.000000</td>\n",
       "      <td>0.000000</td>\n",
       "      <td>0.000000</td>\n",
       "      <td>0.750000</td>\n",
       "    </tr>\n",
       "    <tr>\n",
       "      <th>50%</th>\n",
       "      <td>1226.000000</td>\n",
       "      <td>0.0000</td>\n",
       "      <td>1.500000</td>\n",
       "      <td>1.000000</td>\n",
       "      <td>3.000000</td>\n",
       "      <td>1.000000</td>\n",
       "      <td>32.000000</td>\n",
       "      <td>0.500000</td>\n",
       "      <td>141.000000</td>\n",
       "      <td>4.000000</td>\n",
       "      <td>...</td>\n",
       "      <td>564.000000</td>\n",
       "      <td>1247.000000</td>\n",
       "      <td>2146.500000</td>\n",
       "      <td>12.000000</td>\n",
       "      <td>5.000000</td>\n",
       "      <td>11.000000</td>\n",
       "      <td>1.000000</td>\n",
       "      <td>1.000000</td>\n",
       "      <td>1.000000</td>\n",
       "      <td>1.500000</td>\n",
       "    </tr>\n",
       "    <tr>\n",
       "      <th>75%</th>\n",
       "      <td>1615.250000</td>\n",
       "      <td>1.0000</td>\n",
       "      <td>2.200000</td>\n",
       "      <td>1.000000</td>\n",
       "      <td>7.000000</td>\n",
       "      <td>1.000000</td>\n",
       "      <td>48.000000</td>\n",
       "      <td>0.800000</td>\n",
       "      <td>170.000000</td>\n",
       "      <td>7.000000</td>\n",
       "      <td>...</td>\n",
       "      <td>947.250000</td>\n",
       "      <td>1633.000000</td>\n",
       "      <td>3064.500000</td>\n",
       "      <td>16.000000</td>\n",
       "      <td>9.000000</td>\n",
       "      <td>16.000000</td>\n",
       "      <td>1.000000</td>\n",
       "      <td>1.000000</td>\n",
       "      <td>1.000000</td>\n",
       "      <td>2.250000</td>\n",
       "    </tr>\n",
       "    <tr>\n",
       "      <th>max</th>\n",
       "      <td>1998.000000</td>\n",
       "      <td>1.0000</td>\n",
       "      <td>3.000000</td>\n",
       "      <td>1.000000</td>\n",
       "      <td>19.000000</td>\n",
       "      <td>1.000000</td>\n",
       "      <td>64.000000</td>\n",
       "      <td>1.000000</td>\n",
       "      <td>200.000000</td>\n",
       "      <td>8.000000</td>\n",
       "      <td>...</td>\n",
       "      <td>1960.000000</td>\n",
       "      <td>1998.000000</td>\n",
       "      <td>3998.000000</td>\n",
       "      <td>19.000000</td>\n",
       "      <td>18.000000</td>\n",
       "      <td>20.000000</td>\n",
       "      <td>1.000000</td>\n",
       "      <td>1.000000</td>\n",
       "      <td>1.000000</td>\n",
       "      <td>3.000000</td>\n",
       "    </tr>\n",
       "  </tbody>\n",
       "</table>\n",
       "<p>8 rows × 21 columns</p>\n",
       "</div>"
      ],
      "text/plain": [
       "       battery_power       blue  clock_speed     dual_sim           fc  \\\n",
       "count    2000.000000  2000.0000  2000.000000  2000.000000  2000.000000   \n",
       "mean     1238.518500     0.4950     1.522250     0.509500     4.309500   \n",
       "std       439.418206     0.5001     0.816004     0.500035     4.341444   \n",
       "min       501.000000     0.0000     0.500000     0.000000     0.000000   \n",
       "25%       851.750000     0.0000     0.700000     0.000000     1.000000   \n",
       "50%      1226.000000     0.0000     1.500000     1.000000     3.000000   \n",
       "75%      1615.250000     1.0000     2.200000     1.000000     7.000000   \n",
       "max      1998.000000     1.0000     3.000000     1.000000    19.000000   \n",
       "\n",
       "            four_g   int_memory        m_dep    mobile_wt      n_cores  ...  \\\n",
       "count  2000.000000  2000.000000  2000.000000  2000.000000  2000.000000  ...   \n",
       "mean      0.521500    32.046500     0.501750   140.249000     4.520500  ...   \n",
       "std       0.499662    18.145715     0.288416    35.399655     2.287837  ...   \n",
       "min       0.000000     2.000000     0.100000    80.000000     1.000000  ...   \n",
       "25%       0.000000    16.000000     0.200000   109.000000     3.000000  ...   \n",
       "50%       1.000000    32.000000     0.500000   141.000000     4.000000  ...   \n",
       "75%       1.000000    48.000000     0.800000   170.000000     7.000000  ...   \n",
       "max       1.000000    64.000000     1.000000   200.000000     8.000000  ...   \n",
       "\n",
       "         px_height     px_width          ram         sc_h         sc_w  \\\n",
       "count  2000.000000  2000.000000  2000.000000  2000.000000  2000.000000   \n",
       "mean    645.108000  1251.515500  2124.213000    12.306500     5.767000   \n",
       "std     443.780811   432.199447  1084.732044     4.213245     4.356398   \n",
       "min       0.000000   500.000000   256.000000     5.000000     0.000000   \n",
       "25%     282.750000   874.750000  1207.500000     9.000000     2.000000   \n",
       "50%     564.000000  1247.000000  2146.500000    12.000000     5.000000   \n",
       "75%     947.250000  1633.000000  3064.500000    16.000000     9.000000   \n",
       "max    1960.000000  1998.000000  3998.000000    19.000000    18.000000   \n",
       "\n",
       "         talk_time      three_g  touch_screen         wifi  price_range  \n",
       "count  2000.000000  2000.000000   2000.000000  2000.000000  2000.000000  \n",
       "mean     11.011000     0.761500      0.503000     0.507000     1.500000  \n",
       "std       5.463955     0.426273      0.500116     0.500076     1.118314  \n",
       "min       2.000000     0.000000      0.000000     0.000000     0.000000  \n",
       "25%       6.000000     1.000000      0.000000     0.000000     0.750000  \n",
       "50%      11.000000     1.000000      1.000000     1.000000     1.500000  \n",
       "75%      16.000000     1.000000      1.000000     1.000000     2.250000  \n",
       "max      20.000000     1.000000      1.000000     1.000000     3.000000  \n",
       "\n",
       "[8 rows x 21 columns]"
      ]
     },
     "execution_count": 9,
     "metadata": {},
     "output_type": "execute_result"
    }
   ],
   "source": [
    "train_df.describe()"
   ]
  },
  {
   "cell_type": "code",
   "execution_count": 10,
   "id": "7c1349a7",
   "metadata": {
    "execution": {
     "iopub.execute_input": "2023-08-03T10:30:10.716987Z",
     "iopub.status.busy": "2023-08-03T10:30:10.716719Z",
     "iopub.status.idle": "2023-08-03T10:30:10.723364Z",
     "shell.execute_reply": "2023-08-03T10:30:10.722491Z"
    },
    "papermill": {
     "duration": 0.025957,
     "end_time": "2023-08-03T10:30:10.725336",
     "exception": false,
     "start_time": "2023-08-03T10:30:10.699379",
     "status": "completed"
    },
    "tags": []
   },
   "outputs": [
    {
     "data": {
      "text/plain": [
       "1    500\n",
       "2    500\n",
       "3    500\n",
       "0    500\n",
       "Name: price_range, dtype: int64"
      ]
     },
     "execution_count": 10,
     "metadata": {},
     "output_type": "execute_result"
    }
   ],
   "source": [
    "train_df['price_range'].value_counts()"
   ]
  },
  {
   "cell_type": "markdown",
   "id": "2d35a627",
   "metadata": {
    "papermill": {
     "duration": 0.01599,
     "end_time": "2023-08-03T10:30:10.757689",
     "exception": false,
     "start_time": "2023-08-03T10:30:10.741699",
     "status": "completed"
    },
    "tags": []
   },
   "source": [
    "## Data Preprocessing\n",
    "* **Splitting into X and y values**\n",
    "* **Splitting into Training Data and Testing Data**\n",
    "* **Feature Scaling X_train, X_test**"
   ]
  },
  {
   "cell_type": "code",
   "execution_count": 11,
   "id": "00368b71",
   "metadata": {
    "execution": {
     "iopub.execute_input": "2023-08-03T10:30:10.791217Z",
     "iopub.status.busy": "2023-08-03T10:30:10.790955Z",
     "iopub.status.idle": "2023-08-03T10:30:10.796041Z",
     "shell.execute_reply": "2023-08-03T10:30:10.795065Z"
    },
    "papermill": {
     "duration": 0.024171,
     "end_time": "2023-08-03T10:30:10.798068",
     "exception": false,
     "start_time": "2023-08-03T10:30:10.773897",
     "status": "completed"
    },
    "tags": []
   },
   "outputs": [],
   "source": [
    "columns_to_drop = ['price_range']\n",
    "X = train_df.drop(columns=columns_to_drop, axis=1)\n",
    "y = train_df['price_range']"
   ]
  },
  {
   "cell_type": "code",
   "execution_count": 12,
   "id": "fe953470",
   "metadata": {
    "execution": {
     "iopub.execute_input": "2023-08-03T10:30:10.831822Z",
     "iopub.status.busy": "2023-08-03T10:30:10.831551Z",
     "iopub.status.idle": "2023-08-03T10:30:10.853448Z",
     "shell.execute_reply": "2023-08-03T10:30:10.852457Z"
    },
    "papermill": {
     "duration": 0.041114,
     "end_time": "2023-08-03T10:30:10.855573",
     "exception": false,
     "start_time": "2023-08-03T10:30:10.814459",
     "status": "completed"
    },
    "tags": []
   },
   "outputs": [
    {
     "data": {
      "text/html": [
       "<div>\n",
       "<style scoped>\n",
       "    .dataframe tbody tr th:only-of-type {\n",
       "        vertical-align: middle;\n",
       "    }\n",
       "\n",
       "    .dataframe tbody tr th {\n",
       "        vertical-align: top;\n",
       "    }\n",
       "\n",
       "    .dataframe thead th {\n",
       "        text-align: right;\n",
       "    }\n",
       "</style>\n",
       "<table border=\"1\" class=\"dataframe\">\n",
       "  <thead>\n",
       "    <tr style=\"text-align: right;\">\n",
       "      <th></th>\n",
       "      <th>battery_power</th>\n",
       "      <th>blue</th>\n",
       "      <th>clock_speed</th>\n",
       "      <th>dual_sim</th>\n",
       "      <th>fc</th>\n",
       "      <th>four_g</th>\n",
       "      <th>int_memory</th>\n",
       "      <th>m_dep</th>\n",
       "      <th>mobile_wt</th>\n",
       "      <th>n_cores</th>\n",
       "      <th>pc</th>\n",
       "      <th>px_height</th>\n",
       "      <th>px_width</th>\n",
       "      <th>ram</th>\n",
       "      <th>sc_h</th>\n",
       "      <th>sc_w</th>\n",
       "      <th>talk_time</th>\n",
       "      <th>three_g</th>\n",
       "      <th>touch_screen</th>\n",
       "      <th>wifi</th>\n",
       "    </tr>\n",
       "  </thead>\n",
       "  <tbody>\n",
       "    <tr>\n",
       "      <th>0</th>\n",
       "      <td>842</td>\n",
       "      <td>0</td>\n",
       "      <td>2.2</td>\n",
       "      <td>0</td>\n",
       "      <td>1</td>\n",
       "      <td>0</td>\n",
       "      <td>7</td>\n",
       "      <td>0.6</td>\n",
       "      <td>188</td>\n",
       "      <td>2</td>\n",
       "      <td>2</td>\n",
       "      <td>20</td>\n",
       "      <td>756</td>\n",
       "      <td>2549</td>\n",
       "      <td>9</td>\n",
       "      <td>7</td>\n",
       "      <td>19</td>\n",
       "      <td>0</td>\n",
       "      <td>0</td>\n",
       "      <td>1</td>\n",
       "    </tr>\n",
       "    <tr>\n",
       "      <th>1</th>\n",
       "      <td>1021</td>\n",
       "      <td>1</td>\n",
       "      <td>0.5</td>\n",
       "      <td>1</td>\n",
       "      <td>0</td>\n",
       "      <td>1</td>\n",
       "      <td>53</td>\n",
       "      <td>0.7</td>\n",
       "      <td>136</td>\n",
       "      <td>3</td>\n",
       "      <td>6</td>\n",
       "      <td>905</td>\n",
       "      <td>1988</td>\n",
       "      <td>2631</td>\n",
       "      <td>17</td>\n",
       "      <td>3</td>\n",
       "      <td>7</td>\n",
       "      <td>1</td>\n",
       "      <td>1</td>\n",
       "      <td>0</td>\n",
       "    </tr>\n",
       "    <tr>\n",
       "      <th>2</th>\n",
       "      <td>563</td>\n",
       "      <td>1</td>\n",
       "      <td>0.5</td>\n",
       "      <td>1</td>\n",
       "      <td>2</td>\n",
       "      <td>1</td>\n",
       "      <td>41</td>\n",
       "      <td>0.9</td>\n",
       "      <td>145</td>\n",
       "      <td>5</td>\n",
       "      <td>6</td>\n",
       "      <td>1263</td>\n",
       "      <td>1716</td>\n",
       "      <td>2603</td>\n",
       "      <td>11</td>\n",
       "      <td>2</td>\n",
       "      <td>9</td>\n",
       "      <td>1</td>\n",
       "      <td>1</td>\n",
       "      <td>0</td>\n",
       "    </tr>\n",
       "    <tr>\n",
       "      <th>3</th>\n",
       "      <td>615</td>\n",
       "      <td>1</td>\n",
       "      <td>2.5</td>\n",
       "      <td>0</td>\n",
       "      <td>0</td>\n",
       "      <td>0</td>\n",
       "      <td>10</td>\n",
       "      <td>0.8</td>\n",
       "      <td>131</td>\n",
       "      <td>6</td>\n",
       "      <td>9</td>\n",
       "      <td>1216</td>\n",
       "      <td>1786</td>\n",
       "      <td>2769</td>\n",
       "      <td>16</td>\n",
       "      <td>8</td>\n",
       "      <td>11</td>\n",
       "      <td>1</td>\n",
       "      <td>0</td>\n",
       "      <td>0</td>\n",
       "    </tr>\n",
       "    <tr>\n",
       "      <th>4</th>\n",
       "      <td>1821</td>\n",
       "      <td>1</td>\n",
       "      <td>1.2</td>\n",
       "      <td>0</td>\n",
       "      <td>13</td>\n",
       "      <td>1</td>\n",
       "      <td>44</td>\n",
       "      <td>0.6</td>\n",
       "      <td>141</td>\n",
       "      <td>2</td>\n",
       "      <td>14</td>\n",
       "      <td>1208</td>\n",
       "      <td>1212</td>\n",
       "      <td>1411</td>\n",
       "      <td>8</td>\n",
       "      <td>2</td>\n",
       "      <td>15</td>\n",
       "      <td>1</td>\n",
       "      <td>1</td>\n",
       "      <td>0</td>\n",
       "    </tr>\n",
       "    <tr>\n",
       "      <th>...</th>\n",
       "      <td>...</td>\n",
       "      <td>...</td>\n",
       "      <td>...</td>\n",
       "      <td>...</td>\n",
       "      <td>...</td>\n",
       "      <td>...</td>\n",
       "      <td>...</td>\n",
       "      <td>...</td>\n",
       "      <td>...</td>\n",
       "      <td>...</td>\n",
       "      <td>...</td>\n",
       "      <td>...</td>\n",
       "      <td>...</td>\n",
       "      <td>...</td>\n",
       "      <td>...</td>\n",
       "      <td>...</td>\n",
       "      <td>...</td>\n",
       "      <td>...</td>\n",
       "      <td>...</td>\n",
       "      <td>...</td>\n",
       "    </tr>\n",
       "    <tr>\n",
       "      <th>1995</th>\n",
       "      <td>794</td>\n",
       "      <td>1</td>\n",
       "      <td>0.5</td>\n",
       "      <td>1</td>\n",
       "      <td>0</td>\n",
       "      <td>1</td>\n",
       "      <td>2</td>\n",
       "      <td>0.8</td>\n",
       "      <td>106</td>\n",
       "      <td>6</td>\n",
       "      <td>14</td>\n",
       "      <td>1222</td>\n",
       "      <td>1890</td>\n",
       "      <td>668</td>\n",
       "      <td>13</td>\n",
       "      <td>4</td>\n",
       "      <td>19</td>\n",
       "      <td>1</td>\n",
       "      <td>1</td>\n",
       "      <td>0</td>\n",
       "    </tr>\n",
       "    <tr>\n",
       "      <th>1996</th>\n",
       "      <td>1965</td>\n",
       "      <td>1</td>\n",
       "      <td>2.6</td>\n",
       "      <td>1</td>\n",
       "      <td>0</td>\n",
       "      <td>0</td>\n",
       "      <td>39</td>\n",
       "      <td>0.2</td>\n",
       "      <td>187</td>\n",
       "      <td>4</td>\n",
       "      <td>3</td>\n",
       "      <td>915</td>\n",
       "      <td>1965</td>\n",
       "      <td>2032</td>\n",
       "      <td>11</td>\n",
       "      <td>10</td>\n",
       "      <td>16</td>\n",
       "      <td>1</td>\n",
       "      <td>1</td>\n",
       "      <td>1</td>\n",
       "    </tr>\n",
       "    <tr>\n",
       "      <th>1997</th>\n",
       "      <td>1911</td>\n",
       "      <td>0</td>\n",
       "      <td>0.9</td>\n",
       "      <td>1</td>\n",
       "      <td>1</td>\n",
       "      <td>1</td>\n",
       "      <td>36</td>\n",
       "      <td>0.7</td>\n",
       "      <td>108</td>\n",
       "      <td>8</td>\n",
       "      <td>3</td>\n",
       "      <td>868</td>\n",
       "      <td>1632</td>\n",
       "      <td>3057</td>\n",
       "      <td>9</td>\n",
       "      <td>1</td>\n",
       "      <td>5</td>\n",
       "      <td>1</td>\n",
       "      <td>1</td>\n",
       "      <td>0</td>\n",
       "    </tr>\n",
       "    <tr>\n",
       "      <th>1998</th>\n",
       "      <td>1512</td>\n",
       "      <td>0</td>\n",
       "      <td>0.9</td>\n",
       "      <td>0</td>\n",
       "      <td>4</td>\n",
       "      <td>1</td>\n",
       "      <td>46</td>\n",
       "      <td>0.1</td>\n",
       "      <td>145</td>\n",
       "      <td>5</td>\n",
       "      <td>5</td>\n",
       "      <td>336</td>\n",
       "      <td>670</td>\n",
       "      <td>869</td>\n",
       "      <td>18</td>\n",
       "      <td>10</td>\n",
       "      <td>19</td>\n",
       "      <td>1</td>\n",
       "      <td>1</td>\n",
       "      <td>1</td>\n",
       "    </tr>\n",
       "    <tr>\n",
       "      <th>1999</th>\n",
       "      <td>510</td>\n",
       "      <td>1</td>\n",
       "      <td>2.0</td>\n",
       "      <td>1</td>\n",
       "      <td>5</td>\n",
       "      <td>1</td>\n",
       "      <td>45</td>\n",
       "      <td>0.9</td>\n",
       "      <td>168</td>\n",
       "      <td>6</td>\n",
       "      <td>16</td>\n",
       "      <td>483</td>\n",
       "      <td>754</td>\n",
       "      <td>3919</td>\n",
       "      <td>19</td>\n",
       "      <td>4</td>\n",
       "      <td>2</td>\n",
       "      <td>1</td>\n",
       "      <td>1</td>\n",
       "      <td>1</td>\n",
       "    </tr>\n",
       "  </tbody>\n",
       "</table>\n",
       "<p>2000 rows × 20 columns</p>\n",
       "</div>"
      ],
      "text/plain": [
       "      battery_power  blue  clock_speed  dual_sim  fc  four_g  int_memory  \\\n",
       "0               842     0          2.2         0   1       0           7   \n",
       "1              1021     1          0.5         1   0       1          53   \n",
       "2               563     1          0.5         1   2       1          41   \n",
       "3               615     1          2.5         0   0       0          10   \n",
       "4              1821     1          1.2         0  13       1          44   \n",
       "...             ...   ...          ...       ...  ..     ...         ...   \n",
       "1995            794     1          0.5         1   0       1           2   \n",
       "1996           1965     1          2.6         1   0       0          39   \n",
       "1997           1911     0          0.9         1   1       1          36   \n",
       "1998           1512     0          0.9         0   4       1          46   \n",
       "1999            510     1          2.0         1   5       1          45   \n",
       "\n",
       "      m_dep  mobile_wt  n_cores  pc  px_height  px_width   ram  sc_h  sc_w  \\\n",
       "0       0.6        188        2   2         20       756  2549     9     7   \n",
       "1       0.7        136        3   6        905      1988  2631    17     3   \n",
       "2       0.9        145        5   6       1263      1716  2603    11     2   \n",
       "3       0.8        131        6   9       1216      1786  2769    16     8   \n",
       "4       0.6        141        2  14       1208      1212  1411     8     2   \n",
       "...     ...        ...      ...  ..        ...       ...   ...   ...   ...   \n",
       "1995    0.8        106        6  14       1222      1890   668    13     4   \n",
       "1996    0.2        187        4   3        915      1965  2032    11    10   \n",
       "1997    0.7        108        8   3        868      1632  3057     9     1   \n",
       "1998    0.1        145        5   5        336       670   869    18    10   \n",
       "1999    0.9        168        6  16        483       754  3919    19     4   \n",
       "\n",
       "      talk_time  three_g  touch_screen  wifi  \n",
       "0            19        0             0     1  \n",
       "1             7        1             1     0  \n",
       "2             9        1             1     0  \n",
       "3            11        1             0     0  \n",
       "4            15        1             1     0  \n",
       "...         ...      ...           ...   ...  \n",
       "1995         19        1             1     0  \n",
       "1996         16        1             1     1  \n",
       "1997          5        1             1     0  \n",
       "1998         19        1             1     1  \n",
       "1999          2        1             1     1  \n",
       "\n",
       "[2000 rows x 20 columns]"
      ]
     },
     "execution_count": 12,
     "metadata": {},
     "output_type": "execute_result"
    }
   ],
   "source": [
    "X"
   ]
  },
  {
   "cell_type": "code",
   "execution_count": 13,
   "id": "ee245796",
   "metadata": {
    "execution": {
     "iopub.execute_input": "2023-08-03T10:30:10.891639Z",
     "iopub.status.busy": "2023-08-03T10:30:10.891280Z",
     "iopub.status.idle": "2023-08-03T10:30:10.899172Z",
     "shell.execute_reply": "2023-08-03T10:30:10.898219Z"
    },
    "papermill": {
     "duration": 0.028134,
     "end_time": "2023-08-03T10:30:10.901183",
     "exception": false,
     "start_time": "2023-08-03T10:30:10.873049",
     "status": "completed"
    },
    "tags": []
   },
   "outputs": [
    {
     "data": {
      "text/plain": [
       "0       1\n",
       "1       2\n",
       "2       2\n",
       "3       2\n",
       "4       1\n",
       "       ..\n",
       "1995    0\n",
       "1996    2\n",
       "1997    3\n",
       "1998    0\n",
       "1999    3\n",
       "Name: price_range, Length: 2000, dtype: int64"
      ]
     },
     "execution_count": 13,
     "metadata": {},
     "output_type": "execute_result"
    }
   ],
   "source": [
    "y"
   ]
  },
  {
   "cell_type": "code",
   "execution_count": 14,
   "id": "b4674af5",
   "metadata": {
    "execution": {
     "iopub.execute_input": "2023-08-03T10:30:10.936592Z",
     "iopub.status.busy": "2023-08-03T10:30:10.936145Z",
     "iopub.status.idle": "2023-08-03T10:30:11.828753Z",
     "shell.execute_reply": "2023-08-03T10:30:11.827574Z"
    },
    "papermill": {
     "duration": 0.913386,
     "end_time": "2023-08-03T10:30:11.831636",
     "exception": false,
     "start_time": "2023-08-03T10:30:10.918250",
     "status": "completed"
    },
    "tags": []
   },
   "outputs": [],
   "source": [
    "from sklearn.model_selection import train_test_split\n",
    "X_train, X_test, y_train, y_test = train_test_split(X, y, test_size=0.1, random_state=0)"
   ]
  },
  {
   "cell_type": "code",
   "execution_count": 15,
   "id": "4ac22058",
   "metadata": {
    "execution": {
     "iopub.execute_input": "2023-08-03T10:30:11.871085Z",
     "iopub.status.busy": "2023-08-03T10:30:11.869595Z",
     "iopub.status.idle": "2023-08-03T10:30:11.876853Z",
     "shell.execute_reply": "2023-08-03T10:30:11.875819Z"
    },
    "papermill": {
     "duration": 0.027971,
     "end_time": "2023-08-03T10:30:11.878966",
     "exception": false,
     "start_time": "2023-08-03T10:30:11.850995",
     "status": "completed"
    },
    "tags": []
   },
   "outputs": [
    {
     "data": {
      "text/plain": [
       "((1800, 20), (1800,), (200, 20), (200,))"
      ]
     },
     "execution_count": 15,
     "metadata": {},
     "output_type": "execute_result"
    }
   ],
   "source": [
    "X_train.shape, y_train.shape, X_test.shape, y_test.shape"
   ]
  },
  {
   "cell_type": "code",
   "execution_count": 16,
   "id": "bed4304e",
   "metadata": {
    "execution": {
     "iopub.execute_input": "2023-08-03T10:30:11.914014Z",
     "iopub.status.busy": "2023-08-03T10:30:11.913734Z",
     "iopub.status.idle": "2023-08-03T10:30:11.936052Z",
     "shell.execute_reply": "2023-08-03T10:30:11.935130Z"
    },
    "papermill": {
     "duration": 0.042198,
     "end_time": "2023-08-03T10:30:11.938080",
     "exception": false,
     "start_time": "2023-08-03T10:30:11.895882",
     "status": "completed"
    },
    "tags": []
   },
   "outputs": [
    {
     "data": {
      "text/html": [
       "<div>\n",
       "<style scoped>\n",
       "    .dataframe tbody tr th:only-of-type {\n",
       "        vertical-align: middle;\n",
       "    }\n",
       "\n",
       "    .dataframe tbody tr th {\n",
       "        vertical-align: top;\n",
       "    }\n",
       "\n",
       "    .dataframe thead th {\n",
       "        text-align: right;\n",
       "    }\n",
       "</style>\n",
       "<table border=\"1\" class=\"dataframe\">\n",
       "  <thead>\n",
       "    <tr style=\"text-align: right;\">\n",
       "      <th></th>\n",
       "      <th>battery_power</th>\n",
       "      <th>blue</th>\n",
       "      <th>clock_speed</th>\n",
       "      <th>dual_sim</th>\n",
       "      <th>fc</th>\n",
       "      <th>four_g</th>\n",
       "      <th>int_memory</th>\n",
       "      <th>m_dep</th>\n",
       "      <th>mobile_wt</th>\n",
       "      <th>n_cores</th>\n",
       "      <th>pc</th>\n",
       "      <th>px_height</th>\n",
       "      <th>px_width</th>\n",
       "      <th>ram</th>\n",
       "      <th>sc_h</th>\n",
       "      <th>sc_w</th>\n",
       "      <th>talk_time</th>\n",
       "      <th>three_g</th>\n",
       "      <th>touch_screen</th>\n",
       "      <th>wifi</th>\n",
       "    </tr>\n",
       "  </thead>\n",
       "  <tbody>\n",
       "    <tr>\n",
       "      <th>1018</th>\n",
       "      <td>1000</td>\n",
       "      <td>1</td>\n",
       "      <td>0.5</td>\n",
       "      <td>0</td>\n",
       "      <td>12</td>\n",
       "      <td>0</td>\n",
       "      <td>63</td>\n",
       "      <td>0.7</td>\n",
       "      <td>179</td>\n",
       "      <td>8</td>\n",
       "      <td>18</td>\n",
       "      <td>1537</td>\n",
       "      <td>1761</td>\n",
       "      <td>3744</td>\n",
       "      <td>11</td>\n",
       "      <td>1</td>\n",
       "      <td>7</td>\n",
       "      <td>0</td>\n",
       "      <td>0</td>\n",
       "      <td>1</td>\n",
       "    </tr>\n",
       "    <tr>\n",
       "      <th>655</th>\n",
       "      <td>1994</td>\n",
       "      <td>0</td>\n",
       "      <td>1.5</td>\n",
       "      <td>1</td>\n",
       "      <td>2</td>\n",
       "      <td>1</td>\n",
       "      <td>7</td>\n",
       "      <td>0.5</td>\n",
       "      <td>146</td>\n",
       "      <td>8</td>\n",
       "      <td>7</td>\n",
       "      <td>447</td>\n",
       "      <td>1435</td>\n",
       "      <td>3622</td>\n",
       "      <td>7</td>\n",
       "      <td>0</td>\n",
       "      <td>20</td>\n",
       "      <td>1</td>\n",
       "      <td>0</td>\n",
       "      <td>1</td>\n",
       "    </tr>\n",
       "    <tr>\n",
       "      <th>436</th>\n",
       "      <td>685</td>\n",
       "      <td>0</td>\n",
       "      <td>0.5</td>\n",
       "      <td>1</td>\n",
       "      <td>8</td>\n",
       "      <td>1</td>\n",
       "      <td>13</td>\n",
       "      <td>0.8</td>\n",
       "      <td>82</td>\n",
       "      <td>7</td>\n",
       "      <td>15</td>\n",
       "      <td>1091</td>\n",
       "      <td>1203</td>\n",
       "      <td>3210</td>\n",
       "      <td>15</td>\n",
       "      <td>7</td>\n",
       "      <td>2</td>\n",
       "      <td>1</td>\n",
       "      <td>1</td>\n",
       "      <td>1</td>\n",
       "    </tr>\n",
       "    <tr>\n",
       "      <th>921</th>\n",
       "      <td>1624</td>\n",
       "      <td>1</td>\n",
       "      <td>2.6</td>\n",
       "      <td>1</td>\n",
       "      <td>0</td>\n",
       "      <td>0</td>\n",
       "      <td>58</td>\n",
       "      <td>1.0</td>\n",
       "      <td>200</td>\n",
       "      <td>3</td>\n",
       "      <td>11</td>\n",
       "      <td>1530</td>\n",
       "      <td>1744</td>\n",
       "      <td>1251</td>\n",
       "      <td>13</td>\n",
       "      <td>4</td>\n",
       "      <td>18</td>\n",
       "      <td>0</td>\n",
       "      <td>1</td>\n",
       "      <td>1</td>\n",
       "    </tr>\n",
       "    <tr>\n",
       "      <th>1340</th>\n",
       "      <td>1469</td>\n",
       "      <td>0</td>\n",
       "      <td>0.5</td>\n",
       "      <td>0</td>\n",
       "      <td>3</td>\n",
       "      <td>1</td>\n",
       "      <td>58</td>\n",
       "      <td>0.5</td>\n",
       "      <td>150</td>\n",
       "      <td>7</td>\n",
       "      <td>8</td>\n",
       "      <td>1699</td>\n",
       "      <td>1850</td>\n",
       "      <td>1571</td>\n",
       "      <td>17</td>\n",
       "      <td>16</td>\n",
       "      <td>2</td>\n",
       "      <td>1</td>\n",
       "      <td>0</td>\n",
       "      <td>0</td>\n",
       "    </tr>\n",
       "    <tr>\n",
       "      <th>...</th>\n",
       "      <td>...</td>\n",
       "      <td>...</td>\n",
       "      <td>...</td>\n",
       "      <td>...</td>\n",
       "      <td>...</td>\n",
       "      <td>...</td>\n",
       "      <td>...</td>\n",
       "      <td>...</td>\n",
       "      <td>...</td>\n",
       "      <td>...</td>\n",
       "      <td>...</td>\n",
       "      <td>...</td>\n",
       "      <td>...</td>\n",
       "      <td>...</td>\n",
       "      <td>...</td>\n",
       "      <td>...</td>\n",
       "      <td>...</td>\n",
       "      <td>...</td>\n",
       "      <td>...</td>\n",
       "      <td>...</td>\n",
       "    </tr>\n",
       "    <tr>\n",
       "      <th>835</th>\n",
       "      <td>1224</td>\n",
       "      <td>1</td>\n",
       "      <td>1.6</td>\n",
       "      <td>0</td>\n",
       "      <td>9</td>\n",
       "      <td>0</td>\n",
       "      <td>33</td>\n",
       "      <td>1.0</td>\n",
       "      <td>157</td>\n",
       "      <td>1</td>\n",
       "      <td>18</td>\n",
       "      <td>522</td>\n",
       "      <td>563</td>\n",
       "      <td>3796</td>\n",
       "      <td>10</td>\n",
       "      <td>5</td>\n",
       "      <td>13</td>\n",
       "      <td>1</td>\n",
       "      <td>1</td>\n",
       "      <td>0</td>\n",
       "    </tr>\n",
       "    <tr>\n",
       "      <th>1216</th>\n",
       "      <td>1158</td>\n",
       "      <td>0</td>\n",
       "      <td>0.7</td>\n",
       "      <td>1</td>\n",
       "      <td>1</td>\n",
       "      <td>1</td>\n",
       "      <td>29</td>\n",
       "      <td>0.7</td>\n",
       "      <td>123</td>\n",
       "      <td>2</td>\n",
       "      <td>20</td>\n",
       "      <td>311</td>\n",
       "      <td>1796</td>\n",
       "      <td>1542</td>\n",
       "      <td>17</td>\n",
       "      <td>9</td>\n",
       "      <td>15</td>\n",
       "      <td>1</td>\n",
       "      <td>0</td>\n",
       "      <td>1</td>\n",
       "    </tr>\n",
       "    <tr>\n",
       "      <th>1653</th>\n",
       "      <td>1190</td>\n",
       "      <td>0</td>\n",
       "      <td>2.0</td>\n",
       "      <td>1</td>\n",
       "      <td>0</td>\n",
       "      <td>0</td>\n",
       "      <td>40</td>\n",
       "      <td>0.2</td>\n",
       "      <td>93</td>\n",
       "      <td>5</td>\n",
       "      <td>1</td>\n",
       "      <td>1399</td>\n",
       "      <td>1646</td>\n",
       "      <td>3610</td>\n",
       "      <td>13</td>\n",
       "      <td>7</td>\n",
       "      <td>9</td>\n",
       "      <td>0</td>\n",
       "      <td>0</td>\n",
       "      <td>1</td>\n",
       "    </tr>\n",
       "    <tr>\n",
       "      <th>559</th>\n",
       "      <td>1191</td>\n",
       "      <td>0</td>\n",
       "      <td>2.4</td>\n",
       "      <td>1</td>\n",
       "      <td>2</td>\n",
       "      <td>0</td>\n",
       "      <td>13</td>\n",
       "      <td>0.9</td>\n",
       "      <td>169</td>\n",
       "      <td>1</td>\n",
       "      <td>7</td>\n",
       "      <td>179</td>\n",
       "      <td>1813</td>\n",
       "      <td>1028</td>\n",
       "      <td>14</td>\n",
       "      <td>6</td>\n",
       "      <td>8</td>\n",
       "      <td>1</td>\n",
       "      <td>1</td>\n",
       "      <td>1</td>\n",
       "    </tr>\n",
       "    <tr>\n",
       "      <th>684</th>\n",
       "      <td>706</td>\n",
       "      <td>0</td>\n",
       "      <td>0.5</td>\n",
       "      <td>0</td>\n",
       "      <td>13</td>\n",
       "      <td>1</td>\n",
       "      <td>31</td>\n",
       "      <td>0.1</td>\n",
       "      <td>108</td>\n",
       "      <td>3</td>\n",
       "      <td>19</td>\n",
       "      <td>543</td>\n",
       "      <td>938</td>\n",
       "      <td>2419</td>\n",
       "      <td>8</td>\n",
       "      <td>7</td>\n",
       "      <td>4</td>\n",
       "      <td>1</td>\n",
       "      <td>0</td>\n",
       "      <td>1</td>\n",
       "    </tr>\n",
       "  </tbody>\n",
       "</table>\n",
       "<p>1800 rows × 20 columns</p>\n",
       "</div>"
      ],
      "text/plain": [
       "      battery_power  blue  clock_speed  dual_sim  fc  four_g  int_memory  \\\n",
       "1018           1000     1          0.5         0  12       0          63   \n",
       "655            1994     0          1.5         1   2       1           7   \n",
       "436             685     0          0.5         1   8       1          13   \n",
       "921            1624     1          2.6         1   0       0          58   \n",
       "1340           1469     0          0.5         0   3       1          58   \n",
       "...             ...   ...          ...       ...  ..     ...         ...   \n",
       "835            1224     1          1.6         0   9       0          33   \n",
       "1216           1158     0          0.7         1   1       1          29   \n",
       "1653           1190     0          2.0         1   0       0          40   \n",
       "559            1191     0          2.4         1   2       0          13   \n",
       "684             706     0          0.5         0  13       1          31   \n",
       "\n",
       "      m_dep  mobile_wt  n_cores  pc  px_height  px_width   ram  sc_h  sc_w  \\\n",
       "1018    0.7        179        8  18       1537      1761  3744    11     1   \n",
       "655     0.5        146        8   7        447      1435  3622     7     0   \n",
       "436     0.8         82        7  15       1091      1203  3210    15     7   \n",
       "921     1.0        200        3  11       1530      1744  1251    13     4   \n",
       "1340    0.5        150        7   8       1699      1850  1571    17    16   \n",
       "...     ...        ...      ...  ..        ...       ...   ...   ...   ...   \n",
       "835     1.0        157        1  18        522       563  3796    10     5   \n",
       "1216    0.7        123        2  20        311      1796  1542    17     9   \n",
       "1653    0.2         93        5   1       1399      1646  3610    13     7   \n",
       "559     0.9        169        1   7        179      1813  1028    14     6   \n",
       "684     0.1        108        3  19        543       938  2419     8     7   \n",
       "\n",
       "      talk_time  three_g  touch_screen  wifi  \n",
       "1018          7        0             0     1  \n",
       "655          20        1             0     1  \n",
       "436           2        1             1     1  \n",
       "921          18        0             1     1  \n",
       "1340          2        1             0     0  \n",
       "...         ...      ...           ...   ...  \n",
       "835          13        1             1     0  \n",
       "1216         15        1             0     1  \n",
       "1653          9        0             0     1  \n",
       "559           8        1             1     1  \n",
       "684           4        1             0     1  \n",
       "\n",
       "[1800 rows x 20 columns]"
      ]
     },
     "execution_count": 16,
     "metadata": {},
     "output_type": "execute_result"
    }
   ],
   "source": [
    "X_train"
   ]
  },
  {
   "cell_type": "code",
   "execution_count": 17,
   "id": "e733384c",
   "metadata": {
    "execution": {
     "iopub.execute_input": "2023-08-03T10:30:11.974718Z",
     "iopub.status.busy": "2023-08-03T10:30:11.973922Z",
     "iopub.status.idle": "2023-08-03T10:30:11.985438Z",
     "shell.execute_reply": "2023-08-03T10:30:11.984491Z"
    },
    "papermill": {
     "duration": 0.031805,
     "end_time": "2023-08-03T10:30:11.987436",
     "exception": false,
     "start_time": "2023-08-03T10:30:11.955631",
     "status": "completed"
    },
    "tags": []
   },
   "outputs": [],
   "source": [
    "from sklearn.preprocessing import StandardScaler\n",
    "scaler = StandardScaler()\n",
    "X_train_norm = scaler.fit_transform(X_train)\n",
    "X_test_norm = scaler.transform(X_test)"
   ]
  },
  {
   "cell_type": "code",
   "execution_count": 18,
   "id": "263a71f3",
   "metadata": {
    "execution": {
     "iopub.execute_input": "2023-08-03T10:30:12.023886Z",
     "iopub.status.busy": "2023-08-03T10:30:12.023114Z",
     "iopub.status.idle": "2023-08-03T10:30:12.029853Z",
     "shell.execute_reply": "2023-08-03T10:30:12.028909Z"
    },
    "papermill": {
     "duration": 0.027013,
     "end_time": "2023-08-03T10:30:12.031868",
     "exception": false,
     "start_time": "2023-08-03T10:30:12.004855",
     "status": "completed"
    },
    "tags": []
   },
   "outputs": [
    {
     "data": {
      "text/plain": [
       "array([[-0.5390358 ,  1.02589061, -1.26199175, ..., -1.77142063,\n",
       "        -1.00333891,  0.99115027],\n",
       "       [ 1.71411952, -0.9747628 , -0.03840697, ...,  0.56451866,\n",
       "        -1.00333891,  0.99115027],\n",
       "       [-1.2530639 , -0.9747628 , -1.26199175, ...,  0.56451866,\n",
       "         0.9966722 ,  0.99115027],\n",
       "       ...,\n",
       "       [-0.10835219, -0.9747628 ,  0.57338543, ..., -1.77142063,\n",
       "        -1.00333891,  0.99115027],\n",
       "       [-0.10608543, -0.9747628 ,  1.06281934, ...,  0.56451866,\n",
       "         0.9966722 ,  0.99115027],\n",
       "       [-1.20546203, -0.9747628 , -1.26199175, ...,  0.56451866,\n",
       "        -1.00333891,  0.99115027]])"
      ]
     },
     "execution_count": 18,
     "metadata": {},
     "output_type": "execute_result"
    }
   ],
   "source": [
    "X_train_norm"
   ]
  },
  {
   "cell_type": "markdown",
   "id": "31054816",
   "metadata": {
    "papermill": {
     "duration": 0.017811,
     "end_time": "2023-08-03T10:30:12.068431",
     "exception": false,
     "start_time": "2023-08-03T10:30:12.050620",
     "status": "completed"
    },
    "tags": []
   },
   "source": [
    "## Model Building : TensorFlow Modelling Experiments"
   ]
  },
  {
   "cell_type": "code",
   "execution_count": 19,
   "id": "85c6ba8d",
   "metadata": {
    "execution": {
     "iopub.execute_input": "2023-08-03T10:30:12.105893Z",
     "iopub.status.busy": "2023-08-03T10:30:12.105014Z",
     "iopub.status.idle": "2023-08-03T10:30:12.110250Z",
     "shell.execute_reply": "2023-08-03T10:30:12.109374Z"
    },
    "papermill": {
     "duration": 0.02614,
     "end_time": "2023-08-03T10:30:12.112307",
     "exception": false,
     "start_time": "2023-08-03T10:30:12.086167",
     "status": "completed"
    },
    "tags": []
   },
   "outputs": [],
   "source": [
    "import tensorflow as tf\n",
    "from tensorflow import keras\n",
    "from keras.models import Sequential\n",
    "from keras.layers import Dense, BatchNormalization, Dropout"
   ]
  },
  {
   "cell_type": "code",
   "execution_count": 20,
   "id": "0958f0fe",
   "metadata": {
    "execution": {
     "iopub.execute_input": "2023-08-03T10:30:12.149623Z",
     "iopub.status.busy": "2023-08-03T10:30:12.148670Z",
     "iopub.status.idle": "2023-08-03T10:30:56.954797Z",
     "shell.execute_reply": "2023-08-03T10:30:56.953739Z"
    },
    "papermill": {
     "duration": 44.827261,
     "end_time": "2023-08-03T10:30:56.957253",
     "exception": false,
     "start_time": "2023-08-03T10:30:12.129992",
     "status": "completed"
    },
    "tags": []
   },
   "outputs": [
    {
     "name": "stdout",
     "output_type": "stream",
     "text": [
      "Epoch 1/100\n",
      "57/57 [==============================] - 5s 7ms/step - loss: 1.3835 - accuracy: 0.3167 - val_loss: 1.3082 - val_accuracy: 0.4200\n",
      "Epoch 2/100\n",
      "57/57 [==============================] - 0s 4ms/step - loss: 1.1736 - accuracy: 0.4950 - val_loss: 1.0190 - val_accuracy: 0.5600\n",
      "Epoch 3/100\n",
      "57/57 [==============================] - 0s 4ms/step - loss: 0.8218 - accuracy: 0.6817 - val_loss: 0.6319 - val_accuracy: 0.7850\n",
      "Epoch 4/100\n",
      "57/57 [==============================] - 0s 4ms/step - loss: 0.5261 - accuracy: 0.8261 - val_loss: 0.4194 - val_accuracy: 0.8750\n",
      "Epoch 5/100\n",
      "57/57 [==============================] - 0s 4ms/step - loss: 0.3512 - accuracy: 0.8989 - val_loss: 0.3066 - val_accuracy: 0.9050\n",
      "Epoch 6/100\n",
      "57/57 [==============================] - 0s 4ms/step - loss: 0.2536 - accuracy: 0.9283 - val_loss: 0.2532 - val_accuracy: 0.9300\n",
      "Epoch 7/100\n",
      "57/57 [==============================] - 0s 4ms/step - loss: 0.1971 - accuracy: 0.9383 - val_loss: 0.2402 - val_accuracy: 0.9050\n",
      "Epoch 8/100\n",
      "57/57 [==============================] - 0s 4ms/step - loss: 0.1649 - accuracy: 0.9506 - val_loss: 0.2052 - val_accuracy: 0.9250\n",
      "Epoch 9/100\n",
      "57/57 [==============================] - 0s 4ms/step - loss: 0.1372 - accuracy: 0.9611 - val_loss: 0.2130 - val_accuracy: 0.9050\n",
      "Epoch 10/100\n",
      "57/57 [==============================] - 0s 4ms/step - loss: 0.1176 - accuracy: 0.9683 - val_loss: 0.1954 - val_accuracy: 0.9250\n",
      "Epoch 11/100\n",
      "57/57 [==============================] - 0s 4ms/step - loss: 0.1034 - accuracy: 0.9728 - val_loss: 0.1934 - val_accuracy: 0.9250\n",
      "Epoch 12/100\n",
      "57/57 [==============================] - 0s 4ms/step - loss: 0.0896 - accuracy: 0.9811 - val_loss: 0.1821 - val_accuracy: 0.9250\n",
      "Epoch 13/100\n",
      "57/57 [==============================] - 0s 4ms/step - loss: 0.0758 - accuracy: 0.9828 - val_loss: 0.1824 - val_accuracy: 0.9300\n",
      "Epoch 14/100\n",
      "57/57 [==============================] - 0s 4ms/step - loss: 0.0680 - accuracy: 0.9839 - val_loss: 0.2022 - val_accuracy: 0.9200\n",
      "Epoch 15/100\n",
      "57/57 [==============================] - 0s 4ms/step - loss: 0.0573 - accuracy: 0.9900 - val_loss: 0.2027 - val_accuracy: 0.9200\n",
      "Epoch 16/100\n",
      "57/57 [==============================] - 0s 4ms/step - loss: 0.0501 - accuracy: 0.9928 - val_loss: 0.1705 - val_accuracy: 0.9250\n",
      "Epoch 17/100\n",
      "57/57 [==============================] - 0s 4ms/step - loss: 0.0438 - accuracy: 0.9933 - val_loss: 0.1808 - val_accuracy: 0.9400\n",
      "Epoch 18/100\n",
      "57/57 [==============================] - 0s 4ms/step - loss: 0.0415 - accuracy: 0.9956 - val_loss: 0.1964 - val_accuracy: 0.9200\n",
      "Epoch 19/100\n",
      "57/57 [==============================] - 0s 4ms/step - loss: 0.0353 - accuracy: 0.9956 - val_loss: 0.2160 - val_accuracy: 0.9050\n",
      "Epoch 20/100\n",
      "57/57 [==============================] - 0s 4ms/step - loss: 0.0340 - accuracy: 0.9956 - val_loss: 0.2029 - val_accuracy: 0.9050\n",
      "Epoch 21/100\n",
      "57/57 [==============================] - 0s 4ms/step - loss: 0.0267 - accuracy: 0.9989 - val_loss: 0.2212 - val_accuracy: 0.9150\n",
      "Epoch 22/100\n",
      "57/57 [==============================] - 0s 4ms/step - loss: 0.0229 - accuracy: 0.9989 - val_loss: 0.2233 - val_accuracy: 0.9100\n",
      "Epoch 23/100\n",
      "57/57 [==============================] - 0s 4ms/step - loss: 0.0206 - accuracy: 1.0000 - val_loss: 0.2040 - val_accuracy: 0.9100\n",
      "Epoch 24/100\n",
      "57/57 [==============================] - 0s 4ms/step - loss: 0.0171 - accuracy: 0.9994 - val_loss: 0.2138 - val_accuracy: 0.9150\n",
      "Epoch 25/100\n",
      "57/57 [==============================] - 0s 4ms/step - loss: 0.0159 - accuracy: 0.9994 - val_loss: 0.2101 - val_accuracy: 0.9050\n",
      "Epoch 26/100\n",
      "57/57 [==============================] - 0s 4ms/step - loss: 0.0151 - accuracy: 0.9994 - val_loss: 0.2108 - val_accuracy: 0.9250\n",
      "Epoch 27/100\n",
      "57/57 [==============================] - 0s 4ms/step - loss: 0.0145 - accuracy: 1.0000 - val_loss: 0.2458 - val_accuracy: 0.9100\n",
      "Epoch 28/100\n",
      "57/57 [==============================] - 0s 4ms/step - loss: 0.0121 - accuracy: 1.0000 - val_loss: 0.2463 - val_accuracy: 0.9050\n",
      "Epoch 29/100\n",
      "57/57 [==============================] - 0s 4ms/step - loss: 0.0099 - accuracy: 1.0000 - val_loss: 0.2435 - val_accuracy: 0.9100\n",
      "Epoch 30/100\n",
      "57/57 [==============================] - 0s 4ms/step - loss: 0.0088 - accuracy: 1.0000 - val_loss: 0.2606 - val_accuracy: 0.9100\n",
      "Epoch 31/100\n",
      "57/57 [==============================] - 0s 4ms/step - loss: 0.0083 - accuracy: 1.0000 - val_loss: 0.2493 - val_accuracy: 0.9100\n",
      "Epoch 32/100\n",
      "57/57 [==============================] - 0s 4ms/step - loss: 0.0070 - accuracy: 1.0000 - val_loss: 0.2634 - val_accuracy: 0.9150\n",
      "Epoch 33/100\n",
      "57/57 [==============================] - 0s 4ms/step - loss: 0.0062 - accuracy: 1.0000 - val_loss: 0.2537 - val_accuracy: 0.9100\n",
      "Epoch 34/100\n",
      "57/57 [==============================] - 0s 4ms/step - loss: 0.0059 - accuracy: 1.0000 - val_loss: 0.2795 - val_accuracy: 0.9150\n",
      "Epoch 35/100\n",
      "57/57 [==============================] - 0s 4ms/step - loss: 0.0052 - accuracy: 1.0000 - val_loss: 0.2846 - val_accuracy: 0.9150\n",
      "Epoch 36/100\n",
      "57/57 [==============================] - 0s 4ms/step - loss: 0.0055 - accuracy: 1.0000 - val_loss: 0.2717 - val_accuracy: 0.9100\n",
      "Epoch 37/100\n",
      "57/57 [==============================] - 0s 4ms/step - loss: 0.0041 - accuracy: 1.0000 - val_loss: 0.2775 - val_accuracy: 0.9150\n",
      "Epoch 38/100\n",
      "57/57 [==============================] - 0s 4ms/step - loss: 0.0039 - accuracy: 1.0000 - val_loss: 0.2783 - val_accuracy: 0.9150\n",
      "Epoch 39/100\n",
      "57/57 [==============================] - 0s 4ms/step - loss: 0.0035 - accuracy: 1.0000 - val_loss: 0.2863 - val_accuracy: 0.9150\n",
      "Epoch 40/100\n",
      "57/57 [==============================] - 0s 4ms/step - loss: 0.0033 - accuracy: 1.0000 - val_loss: 0.2875 - val_accuracy: 0.9100\n",
      "Epoch 41/100\n",
      "57/57 [==============================] - 0s 5ms/step - loss: 0.0030 - accuracy: 1.0000 - val_loss: 0.2975 - val_accuracy: 0.9150\n",
      "Epoch 42/100\n",
      "57/57 [==============================] - 0s 4ms/step - loss: 0.0028 - accuracy: 1.0000 - val_loss: 0.2960 - val_accuracy: 0.9150\n",
      "Epoch 43/100\n",
      "57/57 [==============================] - 0s 4ms/step - loss: 0.0026 - accuracy: 1.0000 - val_loss: 0.3055 - val_accuracy: 0.9150\n",
      "Epoch 44/100\n",
      "57/57 [==============================] - 0s 4ms/step - loss: 0.0025 - accuracy: 1.0000 - val_loss: 0.3130 - val_accuracy: 0.9100\n",
      "Epoch 45/100\n",
      "57/57 [==============================] - 0s 4ms/step - loss: 0.0023 - accuracy: 1.0000 - val_loss: 0.3082 - val_accuracy: 0.9150\n",
      "Epoch 46/100\n",
      "57/57 [==============================] - 0s 4ms/step - loss: 0.0021 - accuracy: 1.0000 - val_loss: 0.3139 - val_accuracy: 0.9100\n",
      "Epoch 47/100\n",
      "57/57 [==============================] - 0s 4ms/step - loss: 0.0020 - accuracy: 1.0000 - val_loss: 0.3138 - val_accuracy: 0.9050\n",
      "Epoch 48/100\n",
      "57/57 [==============================] - 0s 4ms/step - loss: 0.0018 - accuracy: 1.0000 - val_loss: 0.3212 - val_accuracy: 0.9100\n",
      "Epoch 49/100\n",
      "57/57 [==============================] - 0s 4ms/step - loss: 0.0017 - accuracy: 1.0000 - val_loss: 0.3435 - val_accuracy: 0.9100\n",
      "Epoch 50/100\n",
      "57/57 [==============================] - 0s 4ms/step - loss: 0.0016 - accuracy: 1.0000 - val_loss: 0.3399 - val_accuracy: 0.9100\n",
      "Epoch 51/100\n",
      "57/57 [==============================] - 0s 4ms/step - loss: 0.0015 - accuracy: 1.0000 - val_loss: 0.3427 - val_accuracy: 0.9150\n",
      "Epoch 52/100\n",
      "57/57 [==============================] - 0s 4ms/step - loss: 0.0014 - accuracy: 1.0000 - val_loss: 0.3579 - val_accuracy: 0.9150\n",
      "Epoch 53/100\n",
      "57/57 [==============================] - 0s 4ms/step - loss: 0.0013 - accuracy: 1.0000 - val_loss: 0.3595 - val_accuracy: 0.9100\n",
      "Epoch 54/100\n",
      "57/57 [==============================] - 0s 4ms/step - loss: 0.0012 - accuracy: 1.0000 - val_loss: 0.3451 - val_accuracy: 0.9100\n",
      "Epoch 55/100\n",
      "57/57 [==============================] - 0s 4ms/step - loss: 0.0012 - accuracy: 1.0000 - val_loss: 0.3628 - val_accuracy: 0.9150\n",
      "Epoch 56/100\n",
      "57/57 [==============================] - 0s 4ms/step - loss: 0.0011 - accuracy: 1.0000 - val_loss: 0.3584 - val_accuracy: 0.9150\n",
      "Epoch 57/100\n",
      "57/57 [==============================] - 0s 4ms/step - loss: 0.0010 - accuracy: 1.0000 - val_loss: 0.3624 - val_accuracy: 0.9150\n",
      "Epoch 58/100\n",
      "57/57 [==============================] - 0s 4ms/step - loss: 9.8018e-04 - accuracy: 1.0000 - val_loss: 0.3738 - val_accuracy: 0.9100\n",
      "Epoch 59/100\n",
      "57/57 [==============================] - 0s 4ms/step - loss: 8.9837e-04 - accuracy: 1.0000 - val_loss: 0.3605 - val_accuracy: 0.9100\n",
      "Epoch 60/100\n",
      "57/57 [==============================] - 0s 4ms/step - loss: 8.7801e-04 - accuracy: 1.0000 - val_loss: 0.3808 - val_accuracy: 0.9150\n",
      "Epoch 61/100\n",
      "57/57 [==============================] - 0s 4ms/step - loss: 7.9673e-04 - accuracy: 1.0000 - val_loss: 0.3768 - val_accuracy: 0.9050\n",
      "Epoch 62/100\n",
      "57/57 [==============================] - 0s 4ms/step - loss: 7.7298e-04 - accuracy: 1.0000 - val_loss: 0.3811 - val_accuracy: 0.9150\n",
      "Epoch 63/100\n",
      "57/57 [==============================] - 0s 4ms/step - loss: 7.1991e-04 - accuracy: 1.0000 - val_loss: 0.3871 - val_accuracy: 0.9050\n",
      "Epoch 64/100\n",
      "57/57 [==============================] - 0s 4ms/step - loss: 6.8376e-04 - accuracy: 1.0000 - val_loss: 0.3964 - val_accuracy: 0.9100\n",
      "Epoch 65/100\n",
      "57/57 [==============================] - 0s 4ms/step - loss: 6.4502e-04 - accuracy: 1.0000 - val_loss: 0.4002 - val_accuracy: 0.9100\n",
      "Epoch 66/100\n",
      "57/57 [==============================] - 0s 4ms/step - loss: 6.1276e-04 - accuracy: 1.0000 - val_loss: 0.3998 - val_accuracy: 0.9150\n",
      "Epoch 67/100\n",
      "57/57 [==============================] - 0s 4ms/step - loss: 5.7634e-04 - accuracy: 1.0000 - val_loss: 0.4066 - val_accuracy: 0.9100\n",
      "Epoch 68/100\n",
      "57/57 [==============================] - 0s 4ms/step - loss: 5.5714e-04 - accuracy: 1.0000 - val_loss: 0.4066 - val_accuracy: 0.9100\n",
      "Epoch 69/100\n",
      "57/57 [==============================] - 0s 4ms/step - loss: 5.2672e-04 - accuracy: 1.0000 - val_loss: 0.4057 - val_accuracy: 0.9100\n",
      "Epoch 70/100\n",
      "57/57 [==============================] - 0s 4ms/step - loss: 4.9940e-04 - accuracy: 1.0000 - val_loss: 0.4098 - val_accuracy: 0.9150\n",
      "Epoch 71/100\n",
      "57/57 [==============================] - 0s 4ms/step - loss: 4.7574e-04 - accuracy: 1.0000 - val_loss: 0.4173 - val_accuracy: 0.9100\n",
      "Epoch 72/100\n",
      "57/57 [==============================] - 0s 4ms/step - loss: 4.5420e-04 - accuracy: 1.0000 - val_loss: 0.4129 - val_accuracy: 0.9150\n",
      "Epoch 73/100\n",
      "57/57 [==============================] - 0s 4ms/step - loss: 4.2963e-04 - accuracy: 1.0000 - val_loss: 0.4212 - val_accuracy: 0.9100\n",
      "Epoch 74/100\n",
      "57/57 [==============================] - 0s 4ms/step - loss: 4.1091e-04 - accuracy: 1.0000 - val_loss: 0.4191 - val_accuracy: 0.9100\n",
      "Epoch 75/100\n",
      "57/57 [==============================] - 0s 4ms/step - loss: 3.9174e-04 - accuracy: 1.0000 - val_loss: 0.4318 - val_accuracy: 0.9100\n",
      "Epoch 76/100\n",
      "57/57 [==============================] - 0s 4ms/step - loss: 3.7571e-04 - accuracy: 1.0000 - val_loss: 0.4236 - val_accuracy: 0.9150\n",
      "Epoch 77/100\n",
      "57/57 [==============================] - 0s 4ms/step - loss: 3.5178e-04 - accuracy: 1.0000 - val_loss: 0.4278 - val_accuracy: 0.9100\n",
      "Epoch 78/100\n",
      "57/57 [==============================] - 0s 4ms/step - loss: 3.4008e-04 - accuracy: 1.0000 - val_loss: 0.4403 - val_accuracy: 0.9050\n",
      "Epoch 79/100\n",
      "57/57 [==============================] - 0s 4ms/step - loss: 3.2479e-04 - accuracy: 1.0000 - val_loss: 0.4372 - val_accuracy: 0.9100\n",
      "Epoch 80/100\n",
      "57/57 [==============================] - 0s 4ms/step - loss: 3.0820e-04 - accuracy: 1.0000 - val_loss: 0.4383 - val_accuracy: 0.9050\n",
      "Epoch 81/100\n",
      "57/57 [==============================] - 0s 4ms/step - loss: 2.9031e-04 - accuracy: 1.0000 - val_loss: 0.4409 - val_accuracy: 0.9150\n",
      "Epoch 82/100\n",
      "57/57 [==============================] - 0s 4ms/step - loss: 2.8070e-04 - accuracy: 1.0000 - val_loss: 0.4500 - val_accuracy: 0.9150\n",
      "Epoch 83/100\n",
      "57/57 [==============================] - 0s 4ms/step - loss: 2.6631e-04 - accuracy: 1.0000 - val_loss: 0.4530 - val_accuracy: 0.9150\n",
      "Epoch 84/100\n",
      "57/57 [==============================] - 0s 4ms/step - loss: 2.5101e-04 - accuracy: 1.0000 - val_loss: 0.4494 - val_accuracy: 0.9050\n",
      "Epoch 85/100\n",
      "57/57 [==============================] - 0s 5ms/step - loss: 2.4049e-04 - accuracy: 1.0000 - val_loss: 0.4591 - val_accuracy: 0.9150\n",
      "Epoch 86/100\n",
      "57/57 [==============================] - 0s 4ms/step - loss: 2.2955e-04 - accuracy: 1.0000 - val_loss: 0.4570 - val_accuracy: 0.9050\n",
      "Epoch 87/100\n",
      "57/57 [==============================] - 0s 4ms/step - loss: 2.2193e-04 - accuracy: 1.0000 - val_loss: 0.4633 - val_accuracy: 0.9100\n",
      "Epoch 88/100\n",
      "57/57 [==============================] - 0s 4ms/step - loss: 2.1207e-04 - accuracy: 1.0000 - val_loss: 0.4665 - val_accuracy: 0.9050\n",
      "Epoch 89/100\n",
      "57/57 [==============================] - 0s 4ms/step - loss: 2.0238e-04 - accuracy: 1.0000 - val_loss: 0.4730 - val_accuracy: 0.9050\n",
      "Epoch 90/100\n",
      "57/57 [==============================] - 0s 4ms/step - loss: 1.9247e-04 - accuracy: 1.0000 - val_loss: 0.4710 - val_accuracy: 0.9000\n",
      "Epoch 91/100\n",
      "57/57 [==============================] - 0s 4ms/step - loss: 1.8827e-04 - accuracy: 1.0000 - val_loss: 0.4689 - val_accuracy: 0.9100\n",
      "Epoch 92/100\n",
      "57/57 [==============================] - 0s 4ms/step - loss: 1.7972e-04 - accuracy: 1.0000 - val_loss: 0.4761 - val_accuracy: 0.9050\n",
      "Epoch 93/100\n",
      "57/57 [==============================] - 0s 4ms/step - loss: 1.6960e-04 - accuracy: 1.0000 - val_loss: 0.4830 - val_accuracy: 0.9050\n",
      "Epoch 94/100\n",
      "57/57 [==============================] - 0s 4ms/step - loss: 1.6298e-04 - accuracy: 1.0000 - val_loss: 0.4758 - val_accuracy: 0.9000\n",
      "Epoch 95/100\n",
      "57/57 [==============================] - 0s 4ms/step - loss: 1.5685e-04 - accuracy: 1.0000 - val_loss: 0.4865 - val_accuracy: 0.9050\n",
      "Epoch 96/100\n",
      "57/57 [==============================] - 0s 4ms/step - loss: 1.5003e-04 - accuracy: 1.0000 - val_loss: 0.4878 - val_accuracy: 0.9050\n",
      "Epoch 97/100\n",
      "57/57 [==============================] - 0s 4ms/step - loss: 1.4332e-04 - accuracy: 1.0000 - val_loss: 0.4863 - val_accuracy: 0.9050\n",
      "Epoch 98/100\n",
      "57/57 [==============================] - 0s 4ms/step - loss: 1.3839e-04 - accuracy: 1.0000 - val_loss: 0.4903 - val_accuracy: 0.9000\n",
      "Epoch 99/100\n",
      "57/57 [==============================] - 0s 4ms/step - loss: 1.3174e-04 - accuracy: 1.0000 - val_loss: 0.4966 - val_accuracy: 0.9000\n",
      "Epoch 100/100\n",
      "57/57 [==============================] - 0s 4ms/step - loss: 1.2650e-04 - accuracy: 1.0000 - val_loss: 0.5010 - val_accuracy: 0.9050\n"
     ]
    }
   ],
   "source": [
    "# Creating model1\n",
    "model1 = Sequential()\n",
    "model1.add(Dense(64, activation='relu', input_dim=20))\n",
    "model1.add(Dense(32, activation='relu'))\n",
    "model1.add(Dense(16, activation='relu'))\n",
    "model1.add(Dense(4, activation='softmax'))\n",
    "\n",
    "# Compiling model1\n",
    "model1.compile(loss=tf.keras.losses.SparseCategoricalCrossentropy(),\n",
    "               optimizer=tf.keras.optimizers.Adam(),\n",
    "               metrics=['accuracy'])\n",
    "\n",
    "# Training Model1\n",
    "history1 = model1.fit(X_train_norm, y_train, epochs=100, validation_data=(X_test_norm, y_test))"
   ]
  },
  {
   "cell_type": "code",
   "execution_count": 21,
   "id": "5e260395",
   "metadata": {
    "execution": {
     "iopub.execute_input": "2023-08-03T10:30:57.083596Z",
     "iopub.status.busy": "2023-08-03T10:30:57.082476Z",
     "iopub.status.idle": "2023-08-03T10:31:35.224478Z",
     "shell.execute_reply": "2023-08-03T10:31:35.223393Z"
    },
    "papermill": {
     "duration": 38.206727,
     "end_time": "2023-08-03T10:31:35.226693",
     "exception": false,
     "start_time": "2023-08-03T10:30:57.019966",
     "status": "completed"
    },
    "tags": []
   },
   "outputs": [
    {
     "name": "stdout",
     "output_type": "stream",
     "text": [
      "Epoch 1/100\n",
      "57/57 [==============================] - 3s 9ms/step - loss: 1.8972 - accuracy: 0.2767 - val_loss: 1.3368 - val_accuracy: 0.4000\n",
      "Epoch 2/100\n",
      "57/57 [==============================] - 0s 6ms/step - loss: 1.5355 - accuracy: 0.3467 - val_loss: 1.1990 - val_accuracy: 0.4900\n",
      "Epoch 3/100\n",
      "57/57 [==============================] - 0s 6ms/step - loss: 1.3274 - accuracy: 0.4144 - val_loss: 1.0201 - val_accuracy: 0.5950\n",
      "Epoch 4/100\n",
      "57/57 [==============================] - 0s 6ms/step - loss: 1.1640 - accuracy: 0.4722 - val_loss: 0.8563 - val_accuracy: 0.6400\n",
      "Epoch 5/100\n",
      "57/57 [==============================] - 0s 6ms/step - loss: 1.0358 - accuracy: 0.5294 - val_loss: 0.7266 - val_accuracy: 0.7200\n",
      "Epoch 6/100\n",
      "57/57 [==============================] - 0s 6ms/step - loss: 0.9246 - accuracy: 0.5850 - val_loss: 0.6376 - val_accuracy: 0.7850\n",
      "Epoch 7/100\n",
      "57/57 [==============================] - 0s 6ms/step - loss: 0.8567 - accuracy: 0.6150 - val_loss: 0.5595 - val_accuracy: 0.8300\n",
      "Epoch 8/100\n",
      "57/57 [==============================] - 0s 6ms/step - loss: 0.7864 - accuracy: 0.6389 - val_loss: 0.5100 - val_accuracy: 0.8200\n",
      "Epoch 9/100\n",
      "57/57 [==============================] - 0s 6ms/step - loss: 0.7081 - accuracy: 0.6972 - val_loss: 0.4701 - val_accuracy: 0.8350\n",
      "Epoch 10/100\n",
      "57/57 [==============================] - 0s 6ms/step - loss: 0.6905 - accuracy: 0.7072 - val_loss: 0.4271 - val_accuracy: 0.8550\n",
      "Epoch 11/100\n",
      "57/57 [==============================] - 0s 6ms/step - loss: 0.6541 - accuracy: 0.7250 - val_loss: 0.3942 - val_accuracy: 0.8750\n",
      "Epoch 12/100\n",
      "57/57 [==============================] - 0s 6ms/step - loss: 0.6168 - accuracy: 0.7339 - val_loss: 0.3714 - val_accuracy: 0.8900\n",
      "Epoch 13/100\n",
      "57/57 [==============================] - 0s 6ms/step - loss: 0.6012 - accuracy: 0.7400 - val_loss: 0.3570 - val_accuracy: 0.9000\n",
      "Epoch 14/100\n",
      "57/57 [==============================] - 0s 6ms/step - loss: 0.5949 - accuracy: 0.7483 - val_loss: 0.3398 - val_accuracy: 0.8950\n",
      "Epoch 15/100\n",
      "57/57 [==============================] - 0s 6ms/step - loss: 0.5522 - accuracy: 0.7611 - val_loss: 0.3237 - val_accuracy: 0.9050\n",
      "Epoch 16/100\n",
      "57/57 [==============================] - 0s 6ms/step - loss: 0.5572 - accuracy: 0.7644 - val_loss: 0.3058 - val_accuracy: 0.9150\n",
      "Epoch 17/100\n",
      "57/57 [==============================] - 0s 6ms/step - loss: 0.5208 - accuracy: 0.7822 - val_loss: 0.2961 - val_accuracy: 0.9150\n",
      "Epoch 18/100\n",
      "57/57 [==============================] - 0s 6ms/step - loss: 0.5409 - accuracy: 0.7811 - val_loss: 0.2884 - val_accuracy: 0.9100\n",
      "Epoch 19/100\n",
      "57/57 [==============================] - 0s 6ms/step - loss: 0.4706 - accuracy: 0.8006 - val_loss: 0.2736 - val_accuracy: 0.9300\n",
      "Epoch 20/100\n",
      "57/57 [==============================] - 0s 6ms/step - loss: 0.4776 - accuracy: 0.8033 - val_loss: 0.2620 - val_accuracy: 0.9250\n",
      "Epoch 21/100\n",
      "57/57 [==============================] - 0s 6ms/step - loss: 0.5335 - accuracy: 0.7794 - val_loss: 0.2569 - val_accuracy: 0.9050\n",
      "Epoch 22/100\n",
      "57/57 [==============================] - 0s 6ms/step - loss: 0.4665 - accuracy: 0.8000 - val_loss: 0.2549 - val_accuracy: 0.9050\n",
      "Epoch 23/100\n",
      "57/57 [==============================] - 0s 6ms/step - loss: 0.4681 - accuracy: 0.8150 - val_loss: 0.2488 - val_accuracy: 0.9150\n",
      "Epoch 24/100\n",
      "57/57 [==============================] - 0s 6ms/step - loss: 0.4713 - accuracy: 0.8022 - val_loss: 0.2400 - val_accuracy: 0.9150\n",
      "Epoch 25/100\n",
      "57/57 [==============================] - 0s 6ms/step - loss: 0.4811 - accuracy: 0.7967 - val_loss: 0.2344 - val_accuracy: 0.9100\n",
      "Epoch 26/100\n",
      "57/57 [==============================] - 0s 6ms/step - loss: 0.4672 - accuracy: 0.8000 - val_loss: 0.2277 - val_accuracy: 0.9400\n",
      "Epoch 27/100\n",
      "57/57 [==============================] - 0s 6ms/step - loss: 0.4999 - accuracy: 0.7806 - val_loss: 0.2374 - val_accuracy: 0.9300\n",
      "Epoch 28/100\n",
      "57/57 [==============================] - 0s 6ms/step - loss: 0.4280 - accuracy: 0.8272 - val_loss: 0.2285 - val_accuracy: 0.9300\n",
      "Epoch 29/100\n",
      "57/57 [==============================] - 0s 6ms/step - loss: 0.4477 - accuracy: 0.8122 - val_loss: 0.2269 - val_accuracy: 0.9300\n",
      "Epoch 30/100\n",
      "57/57 [==============================] - 0s 6ms/step - loss: 0.4200 - accuracy: 0.8317 - val_loss: 0.2069 - val_accuracy: 0.9450\n",
      "Epoch 31/100\n",
      "57/57 [==============================] - 0s 6ms/step - loss: 0.3927 - accuracy: 0.8356 - val_loss: 0.2157 - val_accuracy: 0.9250\n",
      "Epoch 32/100\n",
      "57/57 [==============================] - 0s 6ms/step - loss: 0.4442 - accuracy: 0.8211 - val_loss: 0.2091 - val_accuracy: 0.9250\n",
      "Epoch 33/100\n",
      "57/57 [==============================] - 0s 6ms/step - loss: 0.3950 - accuracy: 0.8456 - val_loss: 0.2061 - val_accuracy: 0.9400\n",
      "Epoch 34/100\n",
      "57/57 [==============================] - 0s 6ms/step - loss: 0.3765 - accuracy: 0.8433 - val_loss: 0.2115 - val_accuracy: 0.9350\n",
      "Epoch 35/100\n",
      "57/57 [==============================] - 0s 6ms/step - loss: 0.3986 - accuracy: 0.8372 - val_loss: 0.2132 - val_accuracy: 0.9250\n",
      "Epoch 36/100\n",
      "57/57 [==============================] - 0s 6ms/step - loss: 0.3949 - accuracy: 0.8439 - val_loss: 0.2073 - val_accuracy: 0.9200\n",
      "Epoch 37/100\n",
      "57/57 [==============================] - 0s 6ms/step - loss: 0.3456 - accuracy: 0.8644 - val_loss: 0.2020 - val_accuracy: 0.9200\n",
      "Epoch 38/100\n",
      "57/57 [==============================] - 0s 6ms/step - loss: 0.3851 - accuracy: 0.8422 - val_loss: 0.1984 - val_accuracy: 0.9100\n",
      "Epoch 39/100\n",
      "57/57 [==============================] - 0s 6ms/step - loss: 0.3580 - accuracy: 0.8517 - val_loss: 0.1894 - val_accuracy: 0.9450\n",
      "Epoch 40/100\n",
      "57/57 [==============================] - 0s 6ms/step - loss: 0.4082 - accuracy: 0.8444 - val_loss: 0.1940 - val_accuracy: 0.9400\n",
      "Epoch 41/100\n",
      "57/57 [==============================] - 0s 6ms/step - loss: 0.3443 - accuracy: 0.8622 - val_loss: 0.1946 - val_accuracy: 0.9100\n",
      "Epoch 42/100\n",
      "57/57 [==============================] - 0s 6ms/step - loss: 0.4064 - accuracy: 0.8389 - val_loss: 0.1811 - val_accuracy: 0.9250\n",
      "Epoch 43/100\n",
      "57/57 [==============================] - 0s 6ms/step - loss: 0.3845 - accuracy: 0.8450 - val_loss: 0.1868 - val_accuracy: 0.9250\n",
      "Epoch 44/100\n",
      "57/57 [==============================] - 0s 6ms/step - loss: 0.3905 - accuracy: 0.8467 - val_loss: 0.1783 - val_accuracy: 0.9550\n",
      "Epoch 45/100\n",
      "57/57 [==============================] - 0s 6ms/step - loss: 0.3939 - accuracy: 0.8411 - val_loss: 0.1774 - val_accuracy: 0.9300\n",
      "Epoch 46/100\n",
      "57/57 [==============================] - 0s 6ms/step - loss: 0.3433 - accuracy: 0.8667 - val_loss: 0.1858 - val_accuracy: 0.9200\n",
      "Epoch 47/100\n",
      "57/57 [==============================] - 0s 6ms/step - loss: 0.3271 - accuracy: 0.8617 - val_loss: 0.1695 - val_accuracy: 0.9200\n",
      "Epoch 48/100\n",
      "57/57 [==============================] - 0s 6ms/step - loss: 0.3568 - accuracy: 0.8606 - val_loss: 0.1752 - val_accuracy: 0.9250\n",
      "Epoch 49/100\n",
      "57/57 [==============================] - 0s 6ms/step - loss: 0.3557 - accuracy: 0.8600 - val_loss: 0.1724 - val_accuracy: 0.9350\n",
      "Epoch 50/100\n",
      "57/57 [==============================] - 0s 6ms/step - loss: 0.3685 - accuracy: 0.8583 - val_loss: 0.1797 - val_accuracy: 0.9150\n",
      "Epoch 51/100\n",
      "57/57 [==============================] - 0s 6ms/step - loss: 0.3324 - accuracy: 0.8606 - val_loss: 0.1836 - val_accuracy: 0.9300\n",
      "Epoch 52/100\n",
      "57/57 [==============================] - 0s 6ms/step - loss: 0.3182 - accuracy: 0.8733 - val_loss: 0.1667 - val_accuracy: 0.9500\n",
      "Epoch 53/100\n",
      "57/57 [==============================] - 0s 6ms/step - loss: 0.3257 - accuracy: 0.8717 - val_loss: 0.1678 - val_accuracy: 0.9450\n",
      "Epoch 54/100\n",
      "57/57 [==============================] - 0s 6ms/step - loss: 0.3255 - accuracy: 0.8778 - val_loss: 0.1801 - val_accuracy: 0.9400\n",
      "Epoch 55/100\n",
      "57/57 [==============================] - 0s 6ms/step - loss: 0.3169 - accuracy: 0.8811 - val_loss: 0.1725 - val_accuracy: 0.9250\n",
      "Epoch 56/100\n",
      "57/57 [==============================] - 0s 6ms/step - loss: 0.3320 - accuracy: 0.8756 - val_loss: 0.1690 - val_accuracy: 0.9250\n",
      "Epoch 57/100\n",
      "57/57 [==============================] - 0s 7ms/step - loss: 0.2790 - accuracy: 0.8911 - val_loss: 0.1724 - val_accuracy: 0.9200\n",
      "Epoch 58/100\n",
      "57/57 [==============================] - 0s 6ms/step - loss: 0.3088 - accuracy: 0.8739 - val_loss: 0.1610 - val_accuracy: 0.9300\n",
      "Epoch 59/100\n",
      "57/57 [==============================] - 0s 8ms/step - loss: 0.3009 - accuracy: 0.8811 - val_loss: 0.1658 - val_accuracy: 0.9250\n",
      "Epoch 60/100\n",
      "57/57 [==============================] - 1s 9ms/step - loss: 0.3384 - accuracy: 0.8739 - val_loss: 0.1566 - val_accuracy: 0.9450\n",
      "Epoch 61/100\n",
      "57/57 [==============================] - 0s 8ms/step - loss: 0.3223 - accuracy: 0.8711 - val_loss: 0.1477 - val_accuracy: 0.9450\n",
      "Epoch 62/100\n",
      "57/57 [==============================] - 0s 7ms/step - loss: 0.2899 - accuracy: 0.8906 - val_loss: 0.1439 - val_accuracy: 0.9450\n",
      "Epoch 63/100\n",
      "57/57 [==============================] - 0s 6ms/step - loss: 0.2771 - accuracy: 0.8950 - val_loss: 0.1442 - val_accuracy: 0.9450\n",
      "Epoch 64/100\n",
      "57/57 [==============================] - 0s 6ms/step - loss: 0.2592 - accuracy: 0.9006 - val_loss: 0.1497 - val_accuracy: 0.9450\n",
      "Epoch 65/100\n",
      "57/57 [==============================] - 0s 6ms/step - loss: 0.2814 - accuracy: 0.8889 - val_loss: 0.1525 - val_accuracy: 0.9400\n",
      "Epoch 66/100\n",
      "57/57 [==============================] - 0s 7ms/step - loss: 0.3428 - accuracy: 0.8772 - val_loss: 0.1544 - val_accuracy: 0.9300\n",
      "Epoch 67/100\n",
      "57/57 [==============================] - 0s 6ms/step - loss: 0.3238 - accuracy: 0.8800 - val_loss: 0.1492 - val_accuracy: 0.9500\n",
      "Epoch 68/100\n",
      "57/57 [==============================] - 0s 6ms/step - loss: 0.2723 - accuracy: 0.8961 - val_loss: 0.1479 - val_accuracy: 0.9500\n",
      "Epoch 69/100\n",
      "57/57 [==============================] - 0s 6ms/step - loss: 0.3011 - accuracy: 0.8806 - val_loss: 0.1544 - val_accuracy: 0.9400\n",
      "Epoch 70/100\n",
      "57/57 [==============================] - 0s 6ms/step - loss: 0.3030 - accuracy: 0.8928 - val_loss: 0.1464 - val_accuracy: 0.9450\n",
      "Epoch 71/100\n",
      "57/57 [==============================] - 0s 6ms/step - loss: 0.2527 - accuracy: 0.9067 - val_loss: 0.1404 - val_accuracy: 0.9500\n",
      "Epoch 72/100\n",
      "57/57 [==============================] - 0s 6ms/step - loss: 0.2836 - accuracy: 0.8989 - val_loss: 0.1520 - val_accuracy: 0.9350\n",
      "Epoch 73/100\n",
      "57/57 [==============================] - 0s 6ms/step - loss: 0.2900 - accuracy: 0.8872 - val_loss: 0.1581 - val_accuracy: 0.9400\n",
      "Epoch 74/100\n",
      "57/57 [==============================] - 0s 6ms/step - loss: 0.2658 - accuracy: 0.9050 - val_loss: 0.1550 - val_accuracy: 0.9350\n",
      "Epoch 75/100\n",
      "57/57 [==============================] - 0s 6ms/step - loss: 0.2687 - accuracy: 0.9006 - val_loss: 0.1487 - val_accuracy: 0.9400\n",
      "Epoch 76/100\n",
      "57/57 [==============================] - 0s 6ms/step - loss: 0.2572 - accuracy: 0.9006 - val_loss: 0.1399 - val_accuracy: 0.9350\n",
      "Epoch 77/100\n",
      "57/57 [==============================] - 0s 7ms/step - loss: 0.2667 - accuracy: 0.9044 - val_loss: 0.1319 - val_accuracy: 0.9500\n",
      "Epoch 78/100\n",
      "57/57 [==============================] - 0s 6ms/step - loss: 0.2853 - accuracy: 0.8972 - val_loss: 0.1462 - val_accuracy: 0.9400\n",
      "Epoch 79/100\n",
      "57/57 [==============================] - 0s 6ms/step - loss: 0.2454 - accuracy: 0.9050 - val_loss: 0.1250 - val_accuracy: 0.9500\n",
      "Epoch 80/100\n",
      "57/57 [==============================] - 0s 6ms/step - loss: 0.2666 - accuracy: 0.9044 - val_loss: 0.1313 - val_accuracy: 0.9450\n",
      "Epoch 81/100\n",
      "57/57 [==============================] - 0s 6ms/step - loss: 0.2634 - accuracy: 0.9056 - val_loss: 0.1343 - val_accuracy: 0.9500\n",
      "Epoch 82/100\n",
      "57/57 [==============================] - 0s 6ms/step - loss: 0.2943 - accuracy: 0.8956 - val_loss: 0.1423 - val_accuracy: 0.9600\n",
      "Epoch 83/100\n",
      "57/57 [==============================] - 0s 6ms/step - loss: 0.2522 - accuracy: 0.9100 - val_loss: 0.1487 - val_accuracy: 0.9450\n",
      "Epoch 84/100\n",
      "57/57 [==============================] - 0s 7ms/step - loss: 0.2628 - accuracy: 0.8994 - val_loss: 0.1583 - val_accuracy: 0.9400\n",
      "Epoch 85/100\n",
      "57/57 [==============================] - 0s 6ms/step - loss: 0.2570 - accuracy: 0.9011 - val_loss: 0.1503 - val_accuracy: 0.9350\n",
      "Epoch 86/100\n",
      "57/57 [==============================] - 0s 6ms/step - loss: 0.2516 - accuracy: 0.9061 - val_loss: 0.1506 - val_accuracy: 0.9500\n",
      "Epoch 87/100\n",
      "57/57 [==============================] - 0s 6ms/step - loss: 0.2445 - accuracy: 0.9017 - val_loss: 0.1433 - val_accuracy: 0.9550\n",
      "Epoch 88/100\n",
      "57/57 [==============================] - 0s 6ms/step - loss: 0.2387 - accuracy: 0.9144 - val_loss: 0.1491 - val_accuracy: 0.9300\n",
      "Epoch 89/100\n",
      "57/57 [==============================] - 0s 6ms/step - loss: 0.2595 - accuracy: 0.9000 - val_loss: 0.1447 - val_accuracy: 0.9400\n",
      "Epoch 90/100\n",
      "57/57 [==============================] - 0s 6ms/step - loss: 0.2438 - accuracy: 0.9139 - val_loss: 0.1469 - val_accuracy: 0.9450\n",
      "Epoch 91/100\n",
      "57/57 [==============================] - 0s 6ms/step - loss: 0.2204 - accuracy: 0.9117 - val_loss: 0.1487 - val_accuracy: 0.9300\n",
      "Epoch 92/100\n",
      "57/57 [==============================] - 0s 6ms/step - loss: 0.2507 - accuracy: 0.9122 - val_loss: 0.1558 - val_accuracy: 0.9250\n",
      "Epoch 93/100\n",
      "57/57 [==============================] - 0s 6ms/step - loss: 0.2387 - accuracy: 0.9111 - val_loss: 0.1537 - val_accuracy: 0.9400\n",
      "Epoch 94/100\n",
      "57/57 [==============================] - 0s 6ms/step - loss: 0.2736 - accuracy: 0.9022 - val_loss: 0.1699 - val_accuracy: 0.9400\n",
      "Epoch 95/100\n",
      "57/57 [==============================] - 0s 6ms/step - loss: 0.2175 - accuracy: 0.9167 - val_loss: 0.1452 - val_accuracy: 0.9400\n",
      "Epoch 96/100\n",
      "57/57 [==============================] - 0s 6ms/step - loss: 0.2051 - accuracy: 0.9217 - val_loss: 0.1450 - val_accuracy: 0.9350\n",
      "Epoch 97/100\n",
      "57/57 [==============================] - 0s 6ms/step - loss: 0.2258 - accuracy: 0.9156 - val_loss: 0.1406 - val_accuracy: 0.9450\n",
      "Epoch 98/100\n",
      "57/57 [==============================] - 0s 6ms/step - loss: 0.2274 - accuracy: 0.9172 - val_loss: 0.1410 - val_accuracy: 0.9450\n",
      "Epoch 99/100\n",
      "57/57 [==============================] - 0s 6ms/step - loss: 0.2204 - accuracy: 0.9222 - val_loss: 0.1440 - val_accuracy: 0.9550\n",
      "Epoch 100/100\n",
      "57/57 [==============================] - 0s 6ms/step - loss: 0.2302 - accuracy: 0.9206 - val_loss: 0.1527 - val_accuracy: 0.9350\n"
     ]
    }
   ],
   "source": [
    "# Creating model1\n",
    "model2 = Sequential()\n",
    "model2.add(Dense(64, activation='relu', input_dim=20))\n",
    "model2.add(BatchNormalization())\n",
    "model2.add(Dropout(0.3))\n",
    "model2.add(Dense(32, activation='relu'))\n",
    "model2.add(BatchNormalization())\n",
    "model2.add(Dropout(0.3))\n",
    "model2.add(Dense(16, activation='relu'))\n",
    "model2.add(BatchNormalization())\n",
    "model2.add(Dropout(0.3))\n",
    "model2.add(Dense(4, activation='softmax'))\n",
    "\n",
    "# Compiling model 2\n",
    "model2.compile(loss=tf.keras.losses.SparseCategoricalCrossentropy(),\n",
    "               optimizer=tf.keras.optimizers.Adam(),\n",
    "               metrics=['accuracy'])\n",
    "\n",
    "# Training Model 2\n",
    "history2 = model2.fit(X_train_norm, y_train, epochs=100, validation_data=(X_test_norm, y_test))"
   ]
  },
  {
   "cell_type": "code",
   "execution_count": 22,
   "id": "098af271",
   "metadata": {
    "execution": {
     "iopub.execute_input": "2023-08-03T10:31:35.479313Z",
     "iopub.status.busy": "2023-08-03T10:31:35.478337Z",
     "iopub.status.idle": "2023-08-03T10:32:30.994617Z",
     "shell.execute_reply": "2023-08-03T10:32:30.993641Z"
    },
    "papermill": {
     "duration": 55.644578,
     "end_time": "2023-08-03T10:32:30.996726",
     "exception": false,
     "start_time": "2023-08-03T10:31:35.352148",
     "status": "completed"
    },
    "tags": []
   },
   "outputs": [
    {
     "name": "stdout",
     "output_type": "stream",
     "text": [
      "Epoch 1/150\n",
      "57/57 [==============================] - 3s 9ms/step - loss: 1.9721 - accuracy: 0.2756 - val_loss: 1.3956 - val_accuracy: 0.2450\n",
      "Epoch 2/150\n",
      "57/57 [==============================] - 0s 6ms/step - loss: 1.8135 - accuracy: 0.2606 - val_loss: 1.3728 - val_accuracy: 0.2900\n",
      "Epoch 3/150\n",
      "57/57 [==============================] - 0s 7ms/step - loss: 1.6741 - accuracy: 0.2989 - val_loss: 1.3340 - val_accuracy: 0.3550\n",
      "Epoch 4/150\n",
      "57/57 [==============================] - 0s 6ms/step - loss: 1.5720 - accuracy: 0.3156 - val_loss: 1.2778 - val_accuracy: 0.3850\n",
      "Epoch 5/150\n",
      "57/57 [==============================] - 0s 6ms/step - loss: 1.4492 - accuracy: 0.3494 - val_loss: 1.2223 - val_accuracy: 0.4650\n",
      "Epoch 6/150\n",
      "57/57 [==============================] - 0s 6ms/step - loss: 1.3732 - accuracy: 0.3672 - val_loss: 1.1431 - val_accuracy: 0.5750\n",
      "Epoch 7/150\n",
      "57/57 [==============================] - 0s 6ms/step - loss: 1.3221 - accuracy: 0.3900 - val_loss: 1.0584 - val_accuracy: 0.6200\n",
      "Epoch 8/150\n",
      "57/57 [==============================] - 0s 6ms/step - loss: 1.2249 - accuracy: 0.4161 - val_loss: 0.9771 - val_accuracy: 0.6400\n",
      "Epoch 9/150\n",
      "57/57 [==============================] - 0s 6ms/step - loss: 1.1593 - accuracy: 0.4467 - val_loss: 0.8961 - val_accuracy: 0.6800\n",
      "Epoch 10/150\n",
      "57/57 [==============================] - 0s 6ms/step - loss: 1.1065 - accuracy: 0.4833 - val_loss: 0.8247 - val_accuracy: 0.7000\n",
      "Epoch 11/150\n",
      "57/57 [==============================] - 0s 6ms/step - loss: 1.0434 - accuracy: 0.4994 - val_loss: 0.7709 - val_accuracy: 0.7350\n",
      "Epoch 12/150\n",
      "57/57 [==============================] - 0s 6ms/step - loss: 1.0043 - accuracy: 0.5378 - val_loss: 0.7263 - val_accuracy: 0.7800\n",
      "Epoch 13/150\n",
      "57/57 [==============================] - 0s 6ms/step - loss: 0.9803 - accuracy: 0.5450 - val_loss: 0.6830 - val_accuracy: 0.7900\n",
      "Epoch 14/150\n",
      "57/57 [==============================] - 0s 6ms/step - loss: 0.9305 - accuracy: 0.5544 - val_loss: 0.6428 - val_accuracy: 0.8250\n",
      "Epoch 15/150\n",
      "57/57 [==============================] - 0s 6ms/step - loss: 0.8768 - accuracy: 0.6106 - val_loss: 0.5971 - val_accuracy: 0.8400\n",
      "Epoch 16/150\n",
      "57/57 [==============================] - 0s 6ms/step - loss: 0.8521 - accuracy: 0.6050 - val_loss: 0.5673 - val_accuracy: 0.8500\n",
      "Epoch 17/150\n",
      "57/57 [==============================] - 0s 6ms/step - loss: 0.8251 - accuracy: 0.6378 - val_loss: 0.5424 - val_accuracy: 0.8500\n",
      "Epoch 18/150\n",
      "57/57 [==============================] - 0s 6ms/step - loss: 0.8220 - accuracy: 0.6467 - val_loss: 0.5116 - val_accuracy: 0.8650\n",
      "Epoch 19/150\n",
      "57/57 [==============================] - 0s 6ms/step - loss: 0.7680 - accuracy: 0.6639 - val_loss: 0.4895 - val_accuracy: 0.8600\n",
      "Epoch 20/150\n",
      "57/57 [==============================] - 0s 6ms/step - loss: 0.7503 - accuracy: 0.6711 - val_loss: 0.4679 - val_accuracy: 0.8850\n",
      "Epoch 21/150\n",
      "57/57 [==============================] - 0s 6ms/step - loss: 0.7481 - accuracy: 0.6656 - val_loss: 0.4487 - val_accuracy: 0.9000\n",
      "Epoch 22/150\n",
      "57/57 [==============================] - 0s 6ms/step - loss: 0.7193 - accuracy: 0.6661 - val_loss: 0.4316 - val_accuracy: 0.8950\n",
      "Epoch 23/150\n",
      "57/57 [==============================] - 0s 6ms/step - loss: 0.7065 - accuracy: 0.6872 - val_loss: 0.4089 - val_accuracy: 0.9050\n",
      "Epoch 24/150\n",
      "57/57 [==============================] - 0s 6ms/step - loss: 0.6899 - accuracy: 0.7078 - val_loss: 0.4019 - val_accuracy: 0.9000\n",
      "Epoch 25/150\n",
      "57/57 [==============================] - 0s 6ms/step - loss: 0.6495 - accuracy: 0.7256 - val_loss: 0.3859 - val_accuracy: 0.9050\n",
      "Epoch 26/150\n",
      "57/57 [==============================] - 0s 6ms/step - loss: 0.6762 - accuracy: 0.6978 - val_loss: 0.3770 - val_accuracy: 0.9000\n",
      "Epoch 27/150\n",
      "57/57 [==============================] - 0s 6ms/step - loss: 0.6661 - accuracy: 0.7111 - val_loss: 0.3675 - val_accuracy: 0.9150\n",
      "Epoch 28/150\n",
      "57/57 [==============================] - 0s 6ms/step - loss: 0.6299 - accuracy: 0.7144 - val_loss: 0.3646 - val_accuracy: 0.8950\n",
      "Epoch 29/150\n",
      "57/57 [==============================] - 0s 6ms/step - loss: 0.6409 - accuracy: 0.7211 - val_loss: 0.3531 - val_accuracy: 0.9050\n",
      "Epoch 30/150\n",
      "57/57 [==============================] - 0s 6ms/step - loss: 0.6298 - accuracy: 0.7267 - val_loss: 0.3385 - val_accuracy: 0.9250\n",
      "Epoch 31/150\n",
      "57/57 [==============================] - 0s 7ms/step - loss: 0.6182 - accuracy: 0.7272 - val_loss: 0.3297 - val_accuracy: 0.9150\n",
      "Epoch 32/150\n",
      "57/57 [==============================] - 0s 7ms/step - loss: 0.5858 - accuracy: 0.7594 - val_loss: 0.3257 - val_accuracy: 0.9100\n",
      "Epoch 33/150\n",
      "57/57 [==============================] - 0s 6ms/step - loss: 0.5868 - accuracy: 0.7511 - val_loss: 0.3232 - val_accuracy: 0.9150\n",
      "Epoch 34/150\n",
      "57/57 [==============================] - 0s 6ms/step - loss: 0.6153 - accuracy: 0.7189 - val_loss: 0.3127 - val_accuracy: 0.9250\n",
      "Epoch 35/150\n",
      "57/57 [==============================] - 0s 6ms/step - loss: 0.5935 - accuracy: 0.7506 - val_loss: 0.3030 - val_accuracy: 0.9250\n",
      "Epoch 36/150\n",
      "57/57 [==============================] - 0s 6ms/step - loss: 0.5849 - accuracy: 0.7389 - val_loss: 0.3048 - val_accuracy: 0.9100\n",
      "Epoch 37/150\n",
      "57/57 [==============================] - 0s 6ms/step - loss: 0.5720 - accuracy: 0.7439 - val_loss: 0.3022 - val_accuracy: 0.9150\n",
      "Epoch 38/150\n",
      "57/57 [==============================] - 0s 6ms/step - loss: 0.5973 - accuracy: 0.7478 - val_loss: 0.2962 - val_accuracy: 0.9200\n",
      "Epoch 39/150\n",
      "57/57 [==============================] - 0s 7ms/step - loss: 0.5706 - accuracy: 0.7461 - val_loss: 0.2916 - val_accuracy: 0.9150\n",
      "Epoch 40/150\n",
      "57/57 [==============================] - 0s 8ms/step - loss: 0.5961 - accuracy: 0.7344 - val_loss: 0.2901 - val_accuracy: 0.9150\n",
      "Epoch 41/150\n",
      "57/57 [==============================] - 0s 8ms/step - loss: 0.5609 - accuracy: 0.7611 - val_loss: 0.2846 - val_accuracy: 0.9050\n",
      "Epoch 42/150\n",
      "57/57 [==============================] - 0s 8ms/step - loss: 0.5155 - accuracy: 0.7933 - val_loss: 0.2706 - val_accuracy: 0.9300\n",
      "Epoch 43/150\n",
      "57/57 [==============================] - 0s 6ms/step - loss: 0.5427 - accuracy: 0.7628 - val_loss: 0.2719 - val_accuracy: 0.9250\n",
      "Epoch 44/150\n",
      "57/57 [==============================] - 0s 6ms/step - loss: 0.5396 - accuracy: 0.7689 - val_loss: 0.2734 - val_accuracy: 0.9250\n",
      "Epoch 45/150\n",
      "57/57 [==============================] - 0s 6ms/step - loss: 0.5270 - accuracy: 0.7794 - val_loss: 0.2680 - val_accuracy: 0.9100\n",
      "Epoch 46/150\n",
      "57/57 [==============================] - 0s 6ms/step - loss: 0.5161 - accuracy: 0.7778 - val_loss: 0.2656 - val_accuracy: 0.9150\n",
      "Epoch 47/150\n",
      "57/57 [==============================] - 0s 6ms/step - loss: 0.5217 - accuracy: 0.7906 - val_loss: 0.2548 - val_accuracy: 0.9250\n",
      "Epoch 48/150\n",
      "57/57 [==============================] - 0s 6ms/step - loss: 0.5372 - accuracy: 0.7683 - val_loss: 0.2519 - val_accuracy: 0.9250\n",
      "Epoch 49/150\n",
      "57/57 [==============================] - 0s 6ms/step - loss: 0.5078 - accuracy: 0.7944 - val_loss: 0.2485 - val_accuracy: 0.9150\n",
      "Epoch 50/150\n",
      "57/57 [==============================] - 0s 6ms/step - loss: 0.5317 - accuracy: 0.7728 - val_loss: 0.2485 - val_accuracy: 0.9150\n",
      "Epoch 51/150\n",
      "57/57 [==============================] - 0s 6ms/step - loss: 0.5036 - accuracy: 0.7822 - val_loss: 0.2399 - val_accuracy: 0.9250\n",
      "Epoch 52/150\n",
      "57/57 [==============================] - 0s 6ms/step - loss: 0.5307 - accuracy: 0.7756 - val_loss: 0.2446 - val_accuracy: 0.9200\n",
      "Epoch 53/150\n",
      "57/57 [==============================] - 0s 6ms/step - loss: 0.5311 - accuracy: 0.7906 - val_loss: 0.2373 - val_accuracy: 0.9250\n",
      "Epoch 54/150\n",
      "57/57 [==============================] - 0s 6ms/step - loss: 0.5088 - accuracy: 0.7972 - val_loss: 0.2292 - val_accuracy: 0.9350\n",
      "Epoch 55/150\n",
      "57/57 [==============================] - 0s 6ms/step - loss: 0.5057 - accuracy: 0.7867 - val_loss: 0.2369 - val_accuracy: 0.9250\n",
      "Epoch 56/150\n",
      "57/57 [==============================] - 0s 6ms/step - loss: 0.4721 - accuracy: 0.8100 - val_loss: 0.2367 - val_accuracy: 0.9150\n",
      "Epoch 57/150\n",
      "57/57 [==============================] - 0s 6ms/step - loss: 0.4967 - accuracy: 0.7972 - val_loss: 0.2397 - val_accuracy: 0.9100\n",
      "Epoch 58/150\n",
      "57/57 [==============================] - 0s 6ms/step - loss: 0.4593 - accuracy: 0.8139 - val_loss: 0.2327 - val_accuracy: 0.9000\n",
      "Epoch 59/150\n",
      "57/57 [==============================] - 0s 6ms/step - loss: 0.4943 - accuracy: 0.8106 - val_loss: 0.2244 - val_accuracy: 0.9250\n",
      "Epoch 60/150\n",
      "57/57 [==============================] - 0s 7ms/step - loss: 0.4959 - accuracy: 0.7956 - val_loss: 0.2182 - val_accuracy: 0.9200\n",
      "Epoch 61/150\n",
      "57/57 [==============================] - 0s 6ms/step - loss: 0.4576 - accuracy: 0.8156 - val_loss: 0.2132 - val_accuracy: 0.9200\n",
      "Epoch 62/150\n",
      "57/57 [==============================] - 0s 6ms/step - loss: 0.4687 - accuracy: 0.8094 - val_loss: 0.2190 - val_accuracy: 0.9300\n",
      "Epoch 63/150\n",
      "57/57 [==============================] - 0s 6ms/step - loss: 0.4727 - accuracy: 0.8178 - val_loss: 0.2170 - val_accuracy: 0.9350\n",
      "Epoch 64/150\n",
      "57/57 [==============================] - 0s 6ms/step - loss: 0.4764 - accuracy: 0.8200 - val_loss: 0.2199 - val_accuracy: 0.9100\n",
      "Epoch 65/150\n",
      "57/57 [==============================] - 0s 6ms/step - loss: 0.4340 - accuracy: 0.8217 - val_loss: 0.2061 - val_accuracy: 0.9300\n",
      "Epoch 66/150\n",
      "57/57 [==============================] - 0s 6ms/step - loss: 0.4491 - accuracy: 0.8278 - val_loss: 0.2119 - val_accuracy: 0.9300\n",
      "Epoch 67/150\n",
      "57/57 [==============================] - 0s 6ms/step - loss: 0.4544 - accuracy: 0.8228 - val_loss: 0.2106 - val_accuracy: 0.9350\n",
      "Epoch 68/150\n",
      "57/57 [==============================] - 0s 6ms/step - loss: 0.4592 - accuracy: 0.8244 - val_loss: 0.2116 - val_accuracy: 0.9250\n",
      "Epoch 69/150\n",
      "57/57 [==============================] - 0s 6ms/step - loss: 0.4374 - accuracy: 0.8244 - val_loss: 0.2070 - val_accuracy: 0.9100\n",
      "Epoch 70/150\n",
      "57/57 [==============================] - 0s 6ms/step - loss: 0.4583 - accuracy: 0.8306 - val_loss: 0.1954 - val_accuracy: 0.9100\n",
      "Epoch 71/150\n",
      "57/57 [==============================] - 0s 6ms/step - loss: 0.4464 - accuracy: 0.8367 - val_loss: 0.1976 - val_accuracy: 0.9100\n",
      "Epoch 72/150\n",
      "57/57 [==============================] - 0s 6ms/step - loss: 0.4444 - accuracy: 0.8167 - val_loss: 0.1942 - val_accuracy: 0.9350\n",
      "Epoch 73/150\n",
      "57/57 [==============================] - 0s 6ms/step - loss: 0.4788 - accuracy: 0.8106 - val_loss: 0.2007 - val_accuracy: 0.9300\n",
      "Epoch 74/150\n",
      "57/57 [==============================] - 0s 6ms/step - loss: 0.4277 - accuracy: 0.8339 - val_loss: 0.2098 - val_accuracy: 0.9250\n",
      "Epoch 75/150\n",
      "57/57 [==============================] - 0s 6ms/step - loss: 0.4498 - accuracy: 0.8356 - val_loss: 0.1993 - val_accuracy: 0.9400\n",
      "Epoch 76/150\n",
      "57/57 [==============================] - 0s 6ms/step - loss: 0.4137 - accuracy: 0.8450 - val_loss: 0.1885 - val_accuracy: 0.9350\n",
      "Epoch 77/150\n",
      "57/57 [==============================] - 0s 6ms/step - loss: 0.4245 - accuracy: 0.8294 - val_loss: 0.1767 - val_accuracy: 0.9550\n",
      "Epoch 78/150\n",
      "57/57 [==============================] - 0s 8ms/step - loss: 0.3993 - accuracy: 0.8478 - val_loss: 0.1696 - val_accuracy: 0.9500\n",
      "Epoch 79/150\n",
      "57/57 [==============================] - 0s 6ms/step - loss: 0.4008 - accuracy: 0.8383 - val_loss: 0.1640 - val_accuracy: 0.9550\n",
      "Epoch 80/150\n",
      "57/57 [==============================] - 0s 6ms/step - loss: 0.3954 - accuracy: 0.8428 - val_loss: 0.1629 - val_accuracy: 0.9500\n",
      "Epoch 81/150\n",
      "57/57 [==============================] - 0s 6ms/step - loss: 0.3892 - accuracy: 0.8489 - val_loss: 0.1710 - val_accuracy: 0.9350\n",
      "Epoch 82/150\n",
      "57/57 [==============================] - 0s 6ms/step - loss: 0.3904 - accuracy: 0.8506 - val_loss: 0.1739 - val_accuracy: 0.9350\n",
      "Epoch 83/150\n",
      "57/57 [==============================] - 0s 6ms/step - loss: 0.3961 - accuracy: 0.8489 - val_loss: 0.1647 - val_accuracy: 0.9500\n",
      "Epoch 84/150\n",
      "57/57 [==============================] - 0s 6ms/step - loss: 0.3882 - accuracy: 0.8500 - val_loss: 0.1753 - val_accuracy: 0.9400\n",
      "Epoch 85/150\n",
      "57/57 [==============================] - 0s 6ms/step - loss: 0.3953 - accuracy: 0.8528 - val_loss: 0.1740 - val_accuracy: 0.9550\n",
      "Epoch 86/150\n",
      "57/57 [==============================] - 0s 6ms/step - loss: 0.3801 - accuracy: 0.8550 - val_loss: 0.1766 - val_accuracy: 0.9300\n",
      "Epoch 87/150\n",
      "57/57 [==============================] - 0s 6ms/step - loss: 0.3866 - accuracy: 0.8650 - val_loss: 0.1604 - val_accuracy: 0.9500\n",
      "Epoch 88/150\n",
      "57/57 [==============================] - 0s 6ms/step - loss: 0.4217 - accuracy: 0.8400 - val_loss: 0.1684 - val_accuracy: 0.9400\n",
      "Epoch 89/150\n",
      "57/57 [==============================] - 0s 7ms/step - loss: 0.3649 - accuracy: 0.8606 - val_loss: 0.1701 - val_accuracy: 0.9350\n",
      "Epoch 90/150\n",
      "57/57 [==============================] - 0s 6ms/step - loss: 0.3622 - accuracy: 0.8578 - val_loss: 0.1600 - val_accuracy: 0.9400\n",
      "Epoch 91/150\n",
      "57/57 [==============================] - 0s 6ms/step - loss: 0.3778 - accuracy: 0.8639 - val_loss: 0.1615 - val_accuracy: 0.9400\n",
      "Epoch 92/150\n",
      "57/57 [==============================] - 0s 6ms/step - loss: 0.3671 - accuracy: 0.8656 - val_loss: 0.1636 - val_accuracy: 0.9450\n",
      "Epoch 93/150\n",
      "57/57 [==============================] - 0s 6ms/step - loss: 0.4116 - accuracy: 0.8472 - val_loss: 0.1636 - val_accuracy: 0.9400\n",
      "Epoch 94/150\n",
      "57/57 [==============================] - 0s 6ms/step - loss: 0.3994 - accuracy: 0.8489 - val_loss: 0.1559 - val_accuracy: 0.9450\n",
      "Epoch 95/150\n",
      "57/57 [==============================] - 0s 6ms/step - loss: 0.3616 - accuracy: 0.8733 - val_loss: 0.1590 - val_accuracy: 0.9350\n",
      "Epoch 96/150\n",
      "57/57 [==============================] - 0s 6ms/step - loss: 0.3775 - accuracy: 0.8539 - val_loss: 0.1639 - val_accuracy: 0.9300\n",
      "Epoch 97/150\n",
      "57/57 [==============================] - 0s 6ms/step - loss: 0.3811 - accuracy: 0.8533 - val_loss: 0.1528 - val_accuracy: 0.9350\n",
      "Epoch 98/150\n",
      "57/57 [==============================] - 0s 6ms/step - loss: 0.3727 - accuracy: 0.8506 - val_loss: 0.1585 - val_accuracy: 0.9400\n",
      "Epoch 99/150\n",
      "57/57 [==============================] - 0s 6ms/step - loss: 0.3785 - accuracy: 0.8500 - val_loss: 0.1642 - val_accuracy: 0.9400\n",
      "Epoch 100/150\n",
      "57/57 [==============================] - 0s 6ms/step - loss: 0.3735 - accuracy: 0.8600 - val_loss: 0.1583 - val_accuracy: 0.9400\n",
      "Epoch 101/150\n",
      "57/57 [==============================] - 0s 6ms/step - loss: 0.3607 - accuracy: 0.8750 - val_loss: 0.1629 - val_accuracy: 0.9450\n",
      "Epoch 102/150\n",
      "57/57 [==============================] - 0s 6ms/step - loss: 0.3338 - accuracy: 0.8756 - val_loss: 0.1619 - val_accuracy: 0.9400\n",
      "Epoch 103/150\n",
      "57/57 [==============================] - 0s 6ms/step - loss: 0.3439 - accuracy: 0.8772 - val_loss: 0.1469 - val_accuracy: 0.9500\n",
      "Epoch 104/150\n",
      "57/57 [==============================] - 0s 6ms/step - loss: 0.3708 - accuracy: 0.8511 - val_loss: 0.1435 - val_accuracy: 0.9500\n",
      "Epoch 105/150\n",
      "57/57 [==============================] - 0s 6ms/step - loss: 0.3978 - accuracy: 0.8511 - val_loss: 0.1612 - val_accuracy: 0.9400\n",
      "Epoch 106/150\n",
      "57/57 [==============================] - 0s 6ms/step - loss: 0.3994 - accuracy: 0.8594 - val_loss: 0.1648 - val_accuracy: 0.9500\n",
      "Epoch 107/150\n",
      "57/57 [==============================] - 0s 6ms/step - loss: 0.4036 - accuracy: 0.8528 - val_loss: 0.1562 - val_accuracy: 0.9450\n",
      "Epoch 108/150\n",
      "57/57 [==============================] - 0s 6ms/step - loss: 0.3731 - accuracy: 0.8761 - val_loss: 0.1541 - val_accuracy: 0.9350\n",
      "Epoch 109/150\n",
      "57/57 [==============================] - 0s 6ms/step - loss: 0.3363 - accuracy: 0.8750 - val_loss: 0.1534 - val_accuracy: 0.9350\n",
      "Epoch 110/150\n",
      "57/57 [==============================] - 0s 6ms/step - loss: 0.3555 - accuracy: 0.8633 - val_loss: 0.1567 - val_accuracy: 0.9400\n",
      "Epoch 111/150\n",
      "57/57 [==============================] - 0s 6ms/step - loss: 0.3874 - accuracy: 0.8556 - val_loss: 0.1476 - val_accuracy: 0.9350\n",
      "Epoch 112/150\n",
      "57/57 [==============================] - 0s 6ms/step - loss: 0.3543 - accuracy: 0.8794 - val_loss: 0.1419 - val_accuracy: 0.9400\n",
      "Epoch 113/150\n",
      "57/57 [==============================] - 0s 6ms/step - loss: 0.3241 - accuracy: 0.8844 - val_loss: 0.1380 - val_accuracy: 0.9550\n",
      "Epoch 114/150\n",
      "57/57 [==============================] - 0s 6ms/step - loss: 0.3946 - accuracy: 0.8539 - val_loss: 0.1402 - val_accuracy: 0.9450\n",
      "Epoch 115/150\n",
      "57/57 [==============================] - 0s 6ms/step - loss: 0.3309 - accuracy: 0.8800 - val_loss: 0.1407 - val_accuracy: 0.9500\n",
      "Epoch 116/150\n",
      "57/57 [==============================] - 0s 6ms/step - loss: 0.3246 - accuracy: 0.8733 - val_loss: 0.1504 - val_accuracy: 0.9500\n",
      "Epoch 117/150\n",
      "57/57 [==============================] - 0s 6ms/step - loss: 0.3505 - accuracy: 0.8722 - val_loss: 0.1511 - val_accuracy: 0.9500\n",
      "Epoch 118/150\n",
      "57/57 [==============================] - 0s 6ms/step - loss: 0.3833 - accuracy: 0.8678 - val_loss: 0.1523 - val_accuracy: 0.9400\n",
      "Epoch 119/150\n",
      "57/57 [==============================] - 0s 7ms/step - loss: 0.3122 - accuracy: 0.8933 - val_loss: 0.1435 - val_accuracy: 0.9400\n",
      "Epoch 120/150\n",
      "57/57 [==============================] - 0s 6ms/step - loss: 0.3490 - accuracy: 0.8794 - val_loss: 0.1426 - val_accuracy: 0.9400\n",
      "Epoch 121/150\n",
      "57/57 [==============================] - 0s 6ms/step - loss: 0.3130 - accuracy: 0.8806 - val_loss: 0.1395 - val_accuracy: 0.9450\n",
      "Epoch 122/150\n",
      "57/57 [==============================] - 0s 6ms/step - loss: 0.3437 - accuracy: 0.8789 - val_loss: 0.1418 - val_accuracy: 0.9500\n",
      "Epoch 123/150\n",
      "57/57 [==============================] - 0s 6ms/step - loss: 0.3537 - accuracy: 0.8761 - val_loss: 0.1382 - val_accuracy: 0.9550\n",
      "Epoch 124/150\n",
      "57/57 [==============================] - 0s 6ms/step - loss: 0.3026 - accuracy: 0.8889 - val_loss: 0.1404 - val_accuracy: 0.9350\n",
      "Epoch 125/150\n",
      "57/57 [==============================] - 0s 6ms/step - loss: 0.3476 - accuracy: 0.8678 - val_loss: 0.1293 - val_accuracy: 0.9400\n",
      "Epoch 126/150\n",
      "57/57 [==============================] - 0s 6ms/step - loss: 0.3335 - accuracy: 0.8761 - val_loss: 0.1448 - val_accuracy: 0.9500\n",
      "Epoch 127/150\n",
      "57/57 [==============================] - 0s 6ms/step - loss: 0.3202 - accuracy: 0.8861 - val_loss: 0.1429 - val_accuracy: 0.9500\n",
      "Epoch 128/150\n",
      "57/57 [==============================] - 0s 6ms/step - loss: 0.3314 - accuracy: 0.8911 - val_loss: 0.1451 - val_accuracy: 0.9400\n",
      "Epoch 129/150\n",
      "57/57 [==============================] - 0s 6ms/step - loss: 0.3202 - accuracy: 0.8806 - val_loss: 0.1373 - val_accuracy: 0.9450\n",
      "Epoch 130/150\n",
      "57/57 [==============================] - 0s 6ms/step - loss: 0.3507 - accuracy: 0.8861 - val_loss: 0.1346 - val_accuracy: 0.9550\n",
      "Epoch 131/150\n",
      "57/57 [==============================] - 0s 6ms/step - loss: 0.3158 - accuracy: 0.8850 - val_loss: 0.1314 - val_accuracy: 0.9550\n",
      "Epoch 132/150\n",
      "57/57 [==============================] - 1s 11ms/step - loss: 0.3326 - accuracy: 0.8828 - val_loss: 0.1310 - val_accuracy: 0.9550\n",
      "Epoch 133/150\n",
      "57/57 [==============================] - 1s 10ms/step - loss: 0.3409 - accuracy: 0.8867 - val_loss: 0.1273 - val_accuracy: 0.9450\n",
      "Epoch 134/150\n",
      "57/57 [==============================] - 0s 8ms/step - loss: 0.3265 - accuracy: 0.8850 - val_loss: 0.1391 - val_accuracy: 0.9400\n",
      "Epoch 135/150\n",
      "57/57 [==============================] - 0s 6ms/step - loss: 0.3389 - accuracy: 0.8850 - val_loss: 0.1408 - val_accuracy: 0.9350\n",
      "Epoch 136/150\n",
      "57/57 [==============================] - 0s 6ms/step - loss: 0.3199 - accuracy: 0.8822 - val_loss: 0.1302 - val_accuracy: 0.9400\n",
      "Epoch 137/150\n",
      "57/57 [==============================] - 0s 6ms/step - loss: 0.3160 - accuracy: 0.8889 - val_loss: 0.1341 - val_accuracy: 0.9450\n",
      "Epoch 138/150\n",
      "57/57 [==============================] - 0s 6ms/step - loss: 0.3018 - accuracy: 0.8911 - val_loss: 0.1361 - val_accuracy: 0.9500\n",
      "Epoch 139/150\n",
      "57/57 [==============================] - 0s 6ms/step - loss: 0.3018 - accuracy: 0.8989 - val_loss: 0.1245 - val_accuracy: 0.9700\n",
      "Epoch 140/150\n",
      "57/57 [==============================] - 0s 6ms/step - loss: 0.3069 - accuracy: 0.8939 - val_loss: 0.1173 - val_accuracy: 0.9600\n",
      "Epoch 141/150\n",
      "57/57 [==============================] - 0s 6ms/step - loss: 0.3296 - accuracy: 0.8883 - val_loss: 0.1188 - val_accuracy: 0.9650\n",
      "Epoch 142/150\n",
      "57/57 [==============================] - 0s 6ms/step - loss: 0.3021 - accuracy: 0.8944 - val_loss: 0.1166 - val_accuracy: 0.9550\n",
      "Epoch 143/150\n",
      "57/57 [==============================] - 0s 6ms/step - loss: 0.3168 - accuracy: 0.8839 - val_loss: 0.1253 - val_accuracy: 0.9650\n",
      "Epoch 144/150\n",
      "57/57 [==============================] - 0s 6ms/step - loss: 0.3310 - accuracy: 0.8850 - val_loss: 0.1164 - val_accuracy: 0.9600\n",
      "Epoch 145/150\n",
      "57/57 [==============================] - 0s 6ms/step - loss: 0.2779 - accuracy: 0.8961 - val_loss: 0.1194 - val_accuracy: 0.9600\n",
      "Epoch 146/150\n",
      "57/57 [==============================] - 0s 7ms/step - loss: 0.2751 - accuracy: 0.9089 - val_loss: 0.1096 - val_accuracy: 0.9700\n",
      "Epoch 147/150\n",
      "57/57 [==============================] - 0s 6ms/step - loss: 0.2904 - accuracy: 0.8906 - val_loss: 0.1081 - val_accuracy: 0.9700\n",
      "Epoch 148/150\n",
      "57/57 [==============================] - 0s 6ms/step - loss: 0.3206 - accuracy: 0.8994 - val_loss: 0.1067 - val_accuracy: 0.9650\n",
      "Epoch 149/150\n",
      "57/57 [==============================] - 0s 6ms/step - loss: 0.2956 - accuracy: 0.8922 - val_loss: 0.1118 - val_accuracy: 0.9650\n",
      "Epoch 150/150\n",
      "57/57 [==============================] - 0s 6ms/step - loss: 0.3009 - accuracy: 0.8939 - val_loss: 0.1279 - val_accuracy: 0.9500\n"
     ]
    }
   ],
   "source": [
    "# Creating model3\n",
    "model3 = Sequential()\n",
    "model3.add(Dense(64, activation='relu', input_dim=20))\n",
    "model3.add(BatchNormalization())\n",
    "model3.add(Dropout(0.5))\n",
    "model3.add(Dense(32, activation='relu'))\n",
    "model3.add(BatchNormalization())\n",
    "model3.add(Dropout(0.5))\n",
    "model3.add(Dense(16, activation='relu'))\n",
    "model3.add(BatchNormalization())\n",
    "model3.add(Dropout(0.5))\n",
    "model3.add(Dense(4, activation='softmax'))\n",
    "\n",
    "# Compiling model 2\n",
    "model3.compile(loss=tf.keras.losses.SparseCategoricalCrossentropy(),\n",
    "               optimizer=tf.keras.optimizers.Adam(),\n",
    "               metrics=['accuracy'])\n",
    "\n",
    "# Training Model 2\n",
    "history3 = model3.fit(X_train_norm, y_train, epochs=150, validation_data=(X_test_norm, y_test))"
   ]
  },
  {
   "cell_type": "markdown",
   "id": "df12ffea",
   "metadata": {
    "papermill": {
     "duration": 0.214526,
     "end_time": "2023-08-03T10:32:31.434469",
     "exception": false,
     "start_time": "2023-08-03T10:32:31.219943",
     "status": "completed"
    },
    "tags": []
   },
   "source": [
    "## Evaluating a Model"
   ]
  },
  {
   "cell_type": "code",
   "execution_count": 23,
   "id": "c2a4323c",
   "metadata": {
    "execution": {
     "iopub.execute_input": "2023-08-03T10:32:31.868456Z",
     "iopub.status.busy": "2023-08-03T10:32:31.868074Z",
     "iopub.status.idle": "2023-08-03T10:32:31.874212Z",
     "shell.execute_reply": "2023-08-03T10:32:31.873156Z"
    },
    "papermill": {
     "duration": 0.226001,
     "end_time": "2023-08-03T10:32:31.876831",
     "exception": false,
     "start_time": "2023-08-03T10:32:31.650830",
     "status": "completed"
    },
    "tags": []
   },
   "outputs": [],
   "source": [
    "from sklearn.metrics import accuracy_score, recall_score, f1_score, precision_score, confusion_matrix\n",
    "def evaluation_report(y_true, y_pred):\n",
    "  print(f'Accuracy Score : {accuracy_score(y_true, y_pred)}')\n",
    "  print(f'Precision Score : {precision_score(y_true, y_pred, average=\"macro\")}')\n",
    "  print(f'Recall Score : {recall_score(y_true, y_pred, average=\"macro\")}')\n",
    "  print(f'F1 Score : {f1_score(y_true, y_pred, average=\"macro\")}')\n",
    "  print(confusion_matrix(y_true, y_pred))"
   ]
  },
  {
   "cell_type": "code",
   "execution_count": 24,
   "id": "19668392",
   "metadata": {
    "execution": {
     "iopub.execute_input": "2023-08-03T10:32:32.365293Z",
     "iopub.status.busy": "2023-08-03T10:32:32.364938Z",
     "iopub.status.idle": "2023-08-03T10:32:32.377190Z",
     "shell.execute_reply": "2023-08-03T10:32:32.376266Z"
    },
    "papermill": {
     "duration": 0.283293,
     "end_time": "2023-08-03T10:32:32.379297",
     "exception": false,
     "start_time": "2023-08-03T10:32:32.096004",
     "status": "completed"
    },
    "tags": []
   },
   "outputs": [],
   "source": [
    "import itertools\n",
    "from sklearn.metrics import confusion_matrix\n",
    "\n",
    "# Our function needs a different name to sklearn's plot_confusion_matrix\n",
    "def make_confusion_matrix(y_true, y_pred, classes=None, figsize=(10, 10), text_size=15): \n",
    "  \"\"\"Makes a labelled confusion matrix comparing predictions and ground truth labels.\n",
    "\n",
    "  If classes is passed, confusion matrix will be labelled, if not, integer class values\n",
    "  will be used.\n",
    "\n",
    "  Args:\n",
    "    y_true: Array of truth labels (must be same shape as y_pred).\n",
    "    y_pred: Array of predicted labels (must be same shape as y_true).\n",
    "    classes: Array of class labels (e.g. string form). If `None`, integer labels are used.\n",
    "    figsize: Size of output figure (default=(10, 10)).\n",
    "    text_size: Size of output figure text (default=15).\n",
    "  \n",
    "  Returns:\n",
    "    A labelled confusion matrix plot comparing y_true and y_pred.\n",
    "\n",
    "  Example usage:\n",
    "    make_confusion_matrix(y_true=test_labels, # ground truth test labels\n",
    "                          y_pred=y_preds, # predicted labels\n",
    "                          classes=class_names, # array of class label names\n",
    "                          figsize=(15, 15),\n",
    "                          text_size=10)\n",
    "  \"\"\"  \n",
    "  # Create the confustion matrix\n",
    "  cm = confusion_matrix(y_true, y_pred)\n",
    "  cm_norm = cm.astype(\"float\") / cm.sum(axis=1)[:, np.newaxis] # normalize it\n",
    "  n_classes = cm.shape[0] # find the number of classes we're dealing with\n",
    "\n",
    "  # Plot the figure and make it pretty\n",
    "  fig, ax = plt.subplots(figsize=figsize)\n",
    "  cax = ax.matshow(cm, cmap=plt.cm.Blues) # colors will represent how 'correct' a class is, darker == better\n",
    "  fig.colorbar(cax)\n",
    "\n",
    "  # Are there a list of classes?\n",
    "  if classes:\n",
    "    labels = classes\n",
    "  else:\n",
    "    labels = np.arange(cm.shape[0])\n",
    "  \n",
    "  # Label the axes\n",
    "  ax.set(title=\"Confusion Matrix\",\n",
    "         xlabel=\"Predicted label\",\n",
    "         ylabel=\"True label\",\n",
    "         xticks=np.arange(n_classes), # create enough axis slots for each class\n",
    "         yticks=np.arange(n_classes), \n",
    "         xticklabels=labels, # axes will labeled with class names (if they exist) or ints\n",
    "         yticklabels=labels)\n",
    "  \n",
    "  # Make x-axis labels appear on bottom\n",
    "  ax.xaxis.set_label_position(\"bottom\")\n",
    "  ax.xaxis.tick_bottom()\n",
    "\n",
    "  # Set the threshold for different colors\n",
    "  threshold = (cm.max() + cm.min()) / 2.\n",
    "\n",
    "  # Plot the text on each cell\n",
    "  for i, j in itertools.product(range(cm.shape[0]), range(cm.shape[1])):\n",
    "    plt.text(j, i, f\"{cm[i, j]} ({cm_norm[i, j]*100:.1f}%)\",\n",
    "             horizontalalignment=\"center\",\n",
    "             color=\"white\" if cm[i, j] > threshold else \"black\",\n",
    "             size=text_size)"
   ]
  },
  {
   "cell_type": "markdown",
   "id": "f044e92b",
   "metadata": {
    "papermill": {
     "duration": 0.213593,
     "end_time": "2023-08-03T10:32:32.807064",
     "exception": false,
     "start_time": "2023-08-03T10:32:32.593471",
     "status": "completed"
    },
    "tags": []
   },
   "source": [
    "### Model 1"
   ]
  },
  {
   "cell_type": "code",
   "execution_count": 25,
   "id": "04334a4a",
   "metadata": {
    "execution": {
     "iopub.execute_input": "2023-08-03T10:32:33.239405Z",
     "iopub.status.busy": "2023-08-03T10:32:33.239037Z",
     "iopub.status.idle": "2023-08-03T10:32:33.362887Z",
     "shell.execute_reply": "2023-08-03T10:32:33.361953Z"
    },
    "papermill": {
     "duration": 0.344137,
     "end_time": "2023-08-03T10:32:33.365020",
     "exception": false,
     "start_time": "2023-08-03T10:32:33.020883",
     "status": "completed"
    },
    "tags": []
   },
   "outputs": [
    {
     "name": "stdout",
     "output_type": "stream",
     "text": [
      "7/7 [==============================] - 0s 3ms/step - loss: 0.5010 - accuracy: 0.9050\n"
     ]
    },
    {
     "data": {
      "text/plain": [
       "[0.5009661912918091, 0.9049999713897705]"
      ]
     },
     "execution_count": 25,
     "metadata": {},
     "output_type": "execute_result"
    }
   ],
   "source": [
    "model1.evaluate(X_test_norm, y_test)"
   ]
  },
  {
   "cell_type": "code",
   "execution_count": 26,
   "id": "e0fa7e66",
   "metadata": {
    "execution": {
     "iopub.execute_input": "2023-08-03T10:32:33.800019Z",
     "iopub.status.busy": "2023-08-03T10:32:33.799660Z",
     "iopub.status.idle": "2023-08-03T10:32:33.969128Z",
     "shell.execute_reply": "2023-08-03T10:32:33.967990Z"
    },
    "papermill": {
     "duration": 0.388646,
     "end_time": "2023-08-03T10:32:33.971465",
     "exception": false,
     "start_time": "2023-08-03T10:32:33.582819",
     "status": "completed"
    },
    "tags": []
   },
   "outputs": [
    {
     "name": "stdout",
     "output_type": "stream",
     "text": [
      "7/7 [==============================] - 0s 2ms/step\n"
     ]
    }
   ],
   "source": [
    "y_pred1 = np.argmax(model1.predict(X_test_norm), axis=1)"
   ]
  },
  {
   "cell_type": "code",
   "execution_count": 27,
   "id": "8d03f8c0",
   "metadata": {
    "execution": {
     "iopub.execute_input": "2023-08-03T10:32:34.418673Z",
     "iopub.status.busy": "2023-08-03T10:32:34.418295Z",
     "iopub.status.idle": "2023-08-03T10:32:34.425150Z",
     "shell.execute_reply": "2023-08-03T10:32:34.424265Z"
    },
    "papermill": {
     "duration": 0.2272,
     "end_time": "2023-08-03T10:32:34.427104",
     "exception": false,
     "start_time": "2023-08-03T10:32:34.199904",
     "status": "completed"
    },
    "tags": []
   },
   "outputs": [
    {
     "data": {
      "text/plain": [
       "array([3, 0, 2, 2, 3, 0, 0, 2, 3, 1, 0, 3, 0, 2, 3, 0, 3, 2, 2, 0, 0, 0,\n",
       "       3, 1, 2, 2, 3, 1, 3, 1, 1, 0, 2, 1, 1, 3, 0, 0, 3, 3, 3, 1, 3, 2,\n",
       "       1, 3, 0, 1, 3, 1, 1, 3, 0, 3, 0, 2, 2, 2, 0, 3, 3, 1, 3, 2, 1, 3,\n",
       "       3, 3, 2, 2, 3, 2, 1, 0, 1, 3, 2, 2, 1, 2, 3, 3, 3, 0, 0, 0, 1, 1,\n",
       "       2, 3, 1, 2, 2, 0, 0, 3, 3, 3, 0, 3, 1, 1, 2, 2, 3, 2, 2, 2, 2, 3,\n",
       "       2, 0, 0, 1, 2, 3, 0, 0, 1, 0, 0, 3, 2, 2, 1, 1, 1, 1, 0, 2, 1, 3,\n",
       "       3, 3, 3, 3, 3, 2, 0, 1, 1, 2, 1, 3, 0, 3, 0, 0, 2, 0, 2, 1, 1, 1,\n",
       "       3, 1, 0, 3, 1, 3, 2, 1, 3, 1, 2, 3, 3, 2, 1, 0, 3, 1, 2, 3, 3, 0,\n",
       "       2, 2, 3, 0, 2, 1, 0, 1, 2, 1, 2, 0, 3, 3, 1, 1, 0, 2, 3, 0, 1, 2,\n",
       "       2, 0])"
      ]
     },
     "execution_count": 27,
     "metadata": {},
     "output_type": "execute_result"
    }
   ],
   "source": [
    "y_pred1"
   ]
  },
  {
   "cell_type": "code",
   "execution_count": 28,
   "id": "d037cac7",
   "metadata": {
    "execution": {
     "iopub.execute_input": "2023-08-03T10:32:34.864615Z",
     "iopub.status.busy": "2023-08-03T10:32:34.864244Z",
     "iopub.status.idle": "2023-08-03T10:32:34.880099Z",
     "shell.execute_reply": "2023-08-03T10:32:34.878894Z"
    },
    "papermill": {
     "duration": 0.237472,
     "end_time": "2023-08-03T10:32:34.882860",
     "exception": false,
     "start_time": "2023-08-03T10:32:34.645388",
     "status": "completed"
    },
    "tags": []
   },
   "outputs": [
    {
     "name": "stdout",
     "output_type": "stream",
     "text": [
      "Accuracy Score : 0.905\n",
      "Precision Score : 0.9043661279218438\n",
      "Recall Score : 0.9069093294799607\n",
      "F1 Score : 0.9050237752737152\n",
      "[[40  2  0  0]\n",
      " [ 4 44  2  0]\n",
      " [ 0  1 42  4]\n",
      " [ 0  0  6 55]]\n"
     ]
    }
   ],
   "source": [
    "evaluation_report(y_test, y_pred1)"
   ]
  },
  {
   "cell_type": "code",
   "execution_count": 29,
   "id": "bb55d7bc",
   "metadata": {
    "execution": {
     "iopub.execute_input": "2023-08-03T10:32:35.323156Z",
     "iopub.status.busy": "2023-08-03T10:32:35.322150Z",
     "iopub.status.idle": "2023-08-03T10:32:35.782932Z",
     "shell.execute_reply": "2023-08-03T10:32:35.781381Z"
    },
    "papermill": {
     "duration": 0.679601,
     "end_time": "2023-08-03T10:32:35.785211",
     "exception": false,
     "start_time": "2023-08-03T10:32:35.105610",
     "status": "completed"
    },
    "tags": []
   },
   "outputs": [
    {
     "data": {
      "image/png": "[encoded data removed]",
      "text/plain": [
       "<Figure size 1000x1000 with 2 Axes>"
      ]
     },
     "metadata": {},
     "output_type": "display_data"
    }
   ],
   "source": [
    "make_confusion_matrix(y_true=y_test, y_pred=y_pred1, classes=[0, 1, 2, 3])"
   ]
  },
  {
   "cell_type": "code",
   "execution_count": 30,
   "id": "cdb9f0dc",
   "metadata": {
    "execution": {
     "iopub.execute_input": "2023-08-03T10:32:36.223722Z",
     "iopub.status.busy": "2023-08-03T10:32:36.223354Z",
     "iopub.status.idle": "2023-08-03T10:32:36.554188Z",
     "shell.execute_reply": "2023-08-03T10:32:36.553258Z"
    },
    "papermill": {
     "duration": 0.553342,
     "end_time": "2023-08-03T10:32:36.556280",
     "exception": false,
     "start_time": "2023-08-03T10:32:36.002938",
     "status": "completed"
    },
    "tags": []
   },
   "outputs": [
    {
     "data": {
      "text/plain": [
       "<Axes: >"
      ]
     },
     "execution_count": 30,
     "metadata": {},
     "output_type": "execute_result"
    },
    {
     "data": {
      "image/png": "[encoded data removed]",
      "text/plain": [
       "<Figure size 640x480 with 1 Axes>"
      ]
     },
     "metadata": {},
     "output_type": "display_data"
    }
   ],
   "source": [
    "pd.DataFrame(history1.history).plot()"
   ]
  },
  {
   "cell_type": "markdown",
   "id": "33cfff31",
   "metadata": {
    "papermill": {
     "duration": 0.260531,
     "end_time": "2023-08-03T10:32:37.051688",
     "exception": false,
     "start_time": "2023-08-03T10:32:36.791157",
     "status": "completed"
    },
    "tags": []
   },
   "source": [
    "### Model 2"
   ]
  },
  {
   "cell_type": "code",
   "execution_count": 31,
   "id": "e2c84381",
   "metadata": {
    "execution": {
     "iopub.execute_input": "2023-08-03T10:32:37.491051Z",
     "iopub.status.busy": "2023-08-03T10:32:37.490689Z",
     "iopub.status.idle": "2023-08-03T10:32:37.612294Z",
     "shell.execute_reply": "2023-08-03T10:32:37.611220Z"
    },
    "papermill": {
     "duration": 0.343063,
     "end_time": "2023-08-03T10:32:37.614485",
     "exception": false,
     "start_time": "2023-08-03T10:32:37.271422",
     "status": "completed"
    },
    "tags": []
   },
   "outputs": [
    {
     "name": "stdout",
     "output_type": "stream",
     "text": [
      "7/7 [==============================] - 0s 3ms/step - loss: 0.1527 - accuracy: 0.9350\n"
     ]
    },
    {
     "data": {
      "text/plain": [
       "[0.1526588648557663, 0.9350000023841858]"
      ]
     },
     "execution_count": 31,
     "metadata": {},
     "output_type": "execute_result"
    }
   ],
   "source": [
    "model2.evaluate(X_test_norm, y_test)"
   ]
  },
  {
   "cell_type": "code",
   "execution_count": 32,
   "id": "d050cc4e",
   "metadata": {
    "execution": {
     "iopub.execute_input": "2023-08-03T10:32:38.047593Z",
     "iopub.status.busy": "2023-08-03T10:32:38.047214Z",
     "iopub.status.idle": "2023-08-03T10:32:38.208176Z",
     "shell.execute_reply": "2023-08-03T10:32:38.207229Z"
    },
    "papermill": {
     "duration": 0.38033,
     "end_time": "2023-08-03T10:32:38.210570",
     "exception": false,
     "start_time": "2023-08-03T10:32:37.830240",
     "status": "completed"
    },
    "tags": []
   },
   "outputs": [
    {
     "name": "stdout",
     "output_type": "stream",
     "text": [
      "7/7 [==============================] - 0s 2ms/step\n"
     ]
    }
   ],
   "source": [
    "y_pred2 = tf.argmax(model2.predict(X_test_norm), axis=1)"
   ]
  },
  {
   "cell_type": "code",
   "execution_count": 33,
   "id": "7701ad74",
   "metadata": {
    "execution": {
     "iopub.execute_input": "2023-08-03T10:32:38.650552Z",
     "iopub.status.busy": "2023-08-03T10:32:38.650164Z",
     "iopub.status.idle": "2023-08-03T10:32:38.659775Z",
     "shell.execute_reply": "2023-08-03T10:32:38.658760Z"
    },
    "papermill": {
     "duration": 0.233268,
     "end_time": "2023-08-03T10:32:38.662459",
     "exception": false,
     "start_time": "2023-08-03T10:32:38.429191",
     "status": "completed"
    },
    "tags": []
   },
   "outputs": [
    {
     "data": {
      "text/plain": [
       "<tf.Tensor: shape=(200,), dtype=int64, numpy=\n",
       "array([3, 0, 2, 2, 2, 0, 0, 2, 3, 1, 1, 3, 0, 2, 3, 0, 3, 2, 2, 1, 0, 0,\n",
       "       3, 1, 1, 2, 3, 1, 3, 1, 1, 0, 1, 1, 1, 3, 0, 0, 3, 3, 3, 1, 3, 3,\n",
       "       1, 3, 0, 1, 3, 1, 1, 3, 0, 3, 0, 2, 2, 2, 0, 3, 3, 1, 3, 2, 1, 3,\n",
       "       3, 2, 2, 2, 3, 2, 1, 0, 1, 3, 2, 2, 1, 2, 3, 3, 3, 0, 0, 0, 1, 1,\n",
       "       2, 3, 1, 2, 2, 1, 0, 3, 3, 3, 0, 3, 1, 1, 3, 1, 3, 2, 2, 3, 2, 3,\n",
       "       3, 0, 0, 1, 3, 3, 0, 0, 1, 0, 0, 3, 2, 2, 1, 1, 1, 1, 0, 2, 1, 3,\n",
       "       3, 3, 3, 3, 3, 2, 0, 1, 1, 2, 1, 3, 0, 3, 0, 0, 1, 0, 1, 1, 1, 1,\n",
       "       3, 1, 0, 3, 1, 3, 2, 1, 3, 1, 2, 3, 3, 2, 1, 0, 3, 1, 1, 3, 3, 0,\n",
       "       2, 2, 3, 0, 2, 1, 0, 1, 2, 1, 2, 0, 3, 3, 1, 1, 0, 2, 3, 0, 1, 2,\n",
       "       2, 0])>"
      ]
     },
     "execution_count": 33,
     "metadata": {},
     "output_type": "execute_result"
    }
   ],
   "source": [
    "y_pred2"
   ]
  },
  {
   "cell_type": "code",
   "execution_count": 34,
   "id": "6c01ca76",
   "metadata": {
    "execution": {
     "iopub.execute_input": "2023-08-03T10:32:39.106188Z",
     "iopub.status.busy": "2023-08-03T10:32:39.105838Z",
     "iopub.status.idle": "2023-08-03T10:32:39.120722Z",
     "shell.execute_reply": "2023-08-03T10:32:39.119371Z"
    },
    "papermill": {
     "duration": 0.23926,
     "end_time": "2023-08-03T10:32:39.122894",
     "exception": false,
     "start_time": "2023-08-03T10:32:38.883634",
     "status": "completed"
    },
    "tags": []
   },
   "outputs": [
    {
     "name": "stdout",
     "output_type": "stream",
     "text": [
      "Accuracy Score : 0.935\n",
      "Precision Score : 0.9383605428796223\n",
      "Recall Score : 0.932345325294401\n",
      "F1 Score : 0.9335242383582777\n",
      "[[40  2  0  0]\n",
      " [ 1 49  0  0]\n",
      " [ 0  5 39  3]\n",
      " [ 0  0  2 59]]\n"
     ]
    }
   ],
   "source": [
    "evaluation_report(y_test, y_pred2)"
   ]
  },
  {
   "cell_type": "code",
   "execution_count": 35,
   "id": "5b4f48e5",
   "metadata": {
    "execution": {
     "iopub.execute_input": "2023-08-03T10:32:39.622257Z",
     "iopub.status.busy": "2023-08-03T10:32:39.621903Z",
     "iopub.status.idle": "2023-08-03T10:32:40.042210Z",
     "shell.execute_reply": "2023-08-03T10:32:40.041217Z"
    },
    "papermill": {
     "duration": 0.688058,
     "end_time": "2023-08-03T10:32:40.044712",
     "exception": false,
     "start_time": "2023-08-03T10:32:39.356654",
     "status": "completed"
    },
    "tags": []
   },
   "outputs": [
    {
     "data": {
      "image/png": "[encoded data removed]",
      "text/plain": [
       "<Figure size 1000x1000 with 2 Axes>"
      ]
     },
     "metadata": {},
     "output_type": "display_data"
    }
   ],
   "source": [
    "make_confusion_matrix(y_true=y_test, y_pred=y_pred2, classes=[0, 1, 2, 3])"
   ]
  },
  {
   "cell_type": "code",
   "execution_count": 36,
   "id": "aa0ab806",
   "metadata": {
    "execution": {
     "iopub.execute_input": "2023-08-03T10:32:40.486978Z",
     "iopub.status.busy": "2023-08-03T10:32:40.486455Z",
     "iopub.status.idle": "2023-08-03T10:32:40.802654Z",
     "shell.execute_reply": "2023-08-03T10:32:40.801715Z"
    },
    "papermill": {
     "duration": 0.53988,
     "end_time": "2023-08-03T10:32:40.804761",
     "exception": false,
     "start_time": "2023-08-03T10:32:40.264881",
     "status": "completed"
    },
    "tags": []
   },
   "outputs": [
    {
     "data": {
      "text/plain": [
       "<Axes: >"
      ]
     },
     "execution_count": 36,
     "metadata": {},
     "output_type": "execute_result"
    },
    {
     "data": {
      "image/png": "[encoded data removed]",
      "text/plain": [
       "<Figure size 640x480 with 1 Axes>"
      ]
     },
     "metadata": {},
     "output_type": "display_data"
    }
   ],
   "source": [
    "pd.DataFrame(history2.history).plot()"
   ]
  },
  {
   "cell_type": "markdown",
   "id": "451d52d4",
   "metadata": {
    "papermill": {
     "duration": 0.223356,
     "end_time": "2023-08-03T10:32:41.245803",
     "exception": false,
     "start_time": "2023-08-03T10:32:41.022447",
     "status": "completed"
    },
    "tags": []
   },
   "source": [
    "## Model 3"
   ]
  },
  {
   "cell_type": "code",
   "execution_count": 37,
   "id": "1c1d6bad",
   "metadata": {
    "execution": {
     "iopub.execute_input": "2023-08-03T10:32:41.734389Z",
     "iopub.status.busy": "2023-08-03T10:32:41.734006Z",
     "iopub.status.idle": "2023-08-03T10:32:41.857234Z",
     "shell.execute_reply": "2023-08-03T10:32:41.856334Z"
    },
    "papermill": {
     "duration": 0.39147,
     "end_time": "2023-08-03T10:32:41.859259",
     "exception": false,
     "start_time": "2023-08-03T10:32:41.467789",
     "status": "completed"
    },
    "tags": []
   },
   "outputs": [
    {
     "name": "stdout",
     "output_type": "stream",
     "text": [
      "7/7 [==============================] - 0s 3ms/step - loss: 0.1279 - accuracy: 0.9500\n"
     ]
    },
    {
     "data": {
      "text/plain": [
       "[0.12794871628284454, 0.949999988079071]"
      ]
     },
     "execution_count": 37,
     "metadata": {},
     "output_type": "execute_result"
    }
   ],
   "source": [
    "model3.evaluate(X_test_norm, y_test)"
   ]
  },
  {
   "cell_type": "code",
   "execution_count": 38,
   "id": "9f5452b3",
   "metadata": {
    "execution": {
     "iopub.execute_input": "2023-08-03T10:32:42.306356Z",
     "iopub.status.busy": "2023-08-03T10:32:42.305983Z",
     "iopub.status.idle": "2023-08-03T10:32:42.465355Z",
     "shell.execute_reply": "2023-08-03T10:32:42.464385Z"
    },
    "papermill": {
     "duration": 0.386846,
     "end_time": "2023-08-03T10:32:42.467606",
     "exception": false,
     "start_time": "2023-08-03T10:32:42.080760",
     "status": "completed"
    },
    "tags": []
   },
   "outputs": [
    {
     "name": "stdout",
     "output_type": "stream",
     "text": [
      "7/7 [==============================] - 0s 2ms/step\n"
     ]
    }
   ],
   "source": [
    "y_pred3 = tf.argmax(model3.predict(X_test_norm), axis=1)"
   ]
  },
  {
   "cell_type": "code",
   "execution_count": 39,
   "id": "eb48268a",
   "metadata": {
    "execution": {
     "iopub.execute_input": "2023-08-03T10:32:42.909221Z",
     "iopub.status.busy": "2023-08-03T10:32:42.908195Z",
     "iopub.status.idle": "2023-08-03T10:32:42.916525Z",
     "shell.execute_reply": "2023-08-03T10:32:42.915467Z"
    },
    "papermill": {
     "duration": 0.229336,
     "end_time": "2023-08-03T10:32:42.918734",
     "exception": false,
     "start_time": "2023-08-03T10:32:42.689398",
     "status": "completed"
    },
    "tags": []
   },
   "outputs": [
    {
     "data": {
      "text/plain": [
       "<tf.Tensor: shape=(200,), dtype=int64, numpy=\n",
       "array([3, 0, 2, 1, 3, 0, 0, 2, 3, 1, 1, 3, 0, 2, 3, 0, 3, 2, 2, 1, 0, 0,\n",
       "       3, 1, 2, 2, 3, 1, 3, 1, 1, 0, 2, 0, 2, 3, 0, 0, 3, 3, 3, 1, 3, 3,\n",
       "       1, 3, 0, 1, 3, 1, 1, 3, 0, 3, 0, 2, 2, 2, 0, 3, 3, 1, 3, 2, 1, 2,\n",
       "       3, 2, 2, 2, 3, 2, 1, 0, 1, 3, 2, 2, 1, 2, 3, 3, 3, 0, 0, 0, 2, 1,\n",
       "       2, 3, 1, 2, 2, 1, 0, 3, 3, 3, 0, 3, 1, 1, 2, 1, 3, 2, 2, 3, 2, 3,\n",
       "       3, 0, 0, 1, 3, 3, 0, 0, 1, 0, 0, 3, 2, 2, 1, 2, 1, 1, 0, 2, 1, 3,\n",
       "       3, 3, 3, 3, 3, 2, 0, 1, 1, 2, 1, 3, 0, 3, 0, 0, 1, 0, 1, 1, 1, 1,\n",
       "       3, 0, 0, 3, 1, 3, 2, 1, 3, 1, 2, 3, 3, 2, 1, 0, 3, 1, 2, 3, 3, 0,\n",
       "       2, 2, 3, 1, 2, 1, 0, 1, 2, 1, 2, 0, 3, 3, 1, 1, 0, 2, 3, 0, 1, 2,\n",
       "       2, 0])>"
      ]
     },
     "execution_count": 39,
     "metadata": {},
     "output_type": "execute_result"
    }
   ],
   "source": [
    "y_pred3"
   ]
  },
  {
   "cell_type": "code",
   "execution_count": 40,
   "id": "d4e4ac84",
   "metadata": {
    "execution": {
     "iopub.execute_input": "2023-08-03T10:32:43.365950Z",
     "iopub.status.busy": "2023-08-03T10:32:43.365586Z",
     "iopub.status.idle": "2023-08-03T10:32:43.378631Z",
     "shell.execute_reply": "2023-08-03T10:32:43.377666Z"
    },
    "papermill": {
     "duration": 0.236585,
     "end_time": "2023-08-03T10:32:43.381119",
     "exception": false,
     "start_time": "2023-08-03T10:32:43.144534",
     "status": "completed"
    },
    "tags": []
   },
   "outputs": [
    {
     "name": "stdout",
     "output_type": "stream",
     "text": [
      "Accuracy Score : 0.95\n",
      "Precision Score : 0.9495743019914628\n",
      "Recall Score : 0.9495743019914628\n",
      "F1 Score : 0.9495743019914628\n",
      "[[41  1  0  0]\n",
      " [ 1 47  2  0]\n",
      " [ 0  2 43  2]\n",
      " [ 0  0  2 59]]\n"
     ]
    }
   ],
   "source": [
    "evaluation_report(y_test, y_pred3)"
   ]
  },
  {
   "cell_type": "code",
   "execution_count": 41,
   "id": "e89b6cbc",
   "metadata": {
    "execution": {
     "iopub.execute_input": "2023-08-03T10:32:43.825846Z",
     "iopub.status.busy": "2023-08-03T10:32:43.825125Z",
     "iopub.status.idle": "2023-08-03T10:32:44.246265Z",
     "shell.execute_reply": "2023-08-03T10:32:44.245311Z"
    },
    "papermill": {
     "duration": 0.643708,
     "end_time": "2023-08-03T10:32:44.248365",
     "exception": false,
     "start_time": "2023-08-03T10:32:43.604657",
     "status": "completed"
    },
    "tags": []
   },
   "outputs": [
    {
     "data": {
      "image/png": "[encoded data removed]",
      "text/plain": [
       "<Figure size 1000x1000 with 2 Axes>"
      ]
     },
     "metadata": {},
     "output_type": "display_data"
    }
   ],
   "source": [
    "make_confusion_matrix(y_true=y_test, y_pred=y_pred3, classes=[0, 1, 2, 3])"
   ]
  },
  {
   "cell_type": "code",
   "execution_count": 42,
   "id": "29597682",
   "metadata": {
    "execution": {
     "iopub.execute_input": "2023-08-03T10:32:44.691845Z",
     "iopub.status.busy": "2023-08-03T10:32:44.691479Z",
     "iopub.status.idle": "2023-08-03T10:32:45.026213Z",
     "shell.execute_reply": "2023-08-03T10:32:45.025247Z"
    },
    "papermill": {
     "duration": 0.560765,
     "end_time": "2023-08-03T10:32:45.028414",
     "exception": false,
     "start_time": "2023-08-03T10:32:44.467649",
     "status": "completed"
    },
    "tags": []
   },
   "outputs": [
    {
     "data": {
      "text/plain": [
       "<Axes: >"
      ]
     },
     "execution_count": 42,
     "metadata": {},
     "output_type": "execute_result"
    },
    {
     "data": {
      "image/png": "[encoded data removed]",
      "text/plain": [
       "<Figure size 640x480 with 1 Axes>"
      ]
     },
     "metadata": {},
     "output_type": "display_data"
    }
   ],
   "source": [
    "pd.DataFrame(history3.history).plot()"
   ]
  },
  {
   "cell_type": "markdown",
   "id": "e22d6c90",
   "metadata": {
    "papermill": {
     "duration": 0.219789,
     "end_time": "2023-08-03T10:32:45.472645",
     "exception": false,
     "start_time": "2023-08-03T10:32:45.252856",
     "status": "completed"
    },
    "tags": []
   },
   "source": [
    "## Single Predictions"
   ]
  },
  {
   "cell_type": "code",
   "execution_count": 43,
   "id": "7e5e2aed",
   "metadata": {
    "execution": {
     "iopub.execute_input": "2023-08-03T10:32:45.963570Z",
     "iopub.status.busy": "2023-08-03T10:32:45.961491Z",
     "iopub.status.idle": "2023-08-03T10:32:45.968559Z",
     "shell.execute_reply": "2023-08-03T10:32:45.967641Z"
    },
    "papermill": {
     "duration": 0.233738,
     "end_time": "2023-08-03T10:32:45.970586",
     "exception": false,
     "start_time": "2023-08-03T10:32:45.736848",
     "status": "completed"
    },
    "tags": []
   },
   "outputs": [],
   "source": [
    "def single_predictions_test_data(index):\n",
    "    y_true = y_test.iloc[index]\n",
    "    input_tensor = tf.expand_dims(tf.constant(X_test_norm[index]), axis=0)\n",
    "    y_pred = tf.argmax(model3.predict(input_tensor), axis=1)\n",
    "    print('------------------------------')\n",
    "    print(f'y true : {y_true}')\n",
    "    print(f'y pred : {y_pred}')"
   ]
  },
  {
   "cell_type": "code",
   "execution_count": 44,
   "id": "14e6222f",
   "metadata": {
    "execution": {
     "iopub.execute_input": "2023-08-03T10:32:46.420291Z",
     "iopub.status.busy": "2023-08-03T10:32:46.419814Z",
     "iopub.status.idle": "2023-08-03T10:32:46.583087Z",
     "shell.execute_reply": "2023-08-03T10:32:46.582008Z"
    },
    "papermill": {
     "duration": 0.389253,
     "end_time": "2023-08-03T10:32:46.585106",
     "exception": false,
     "start_time": "2023-08-03T10:32:46.195853",
     "status": "completed"
    },
    "tags": []
   },
   "outputs": [
    {
     "name": "stdout",
     "output_type": "stream",
     "text": [
      "1/1 [==============================] - 0s 110ms/step\n",
      "------------------------------\n",
      "y true : 2\n",
      "y pred : [1]\n"
     ]
    }
   ],
   "source": [
    "single_predictions_test_data(3)"
   ]
  },
  {
   "cell_type": "code",
   "execution_count": 45,
   "id": "832e3ff9",
   "metadata": {
    "execution": {
     "iopub.execute_input": "2023-08-03T10:32:47.047842Z",
     "iopub.status.busy": "2023-08-03T10:32:47.047152Z",
     "iopub.status.idle": "2023-08-03T10:32:47.125922Z",
     "shell.execute_reply": "2023-08-03T10:32:47.124948Z"
    },
    "papermill": {
     "duration": 0.30386,
     "end_time": "2023-08-03T10:32:47.128041",
     "exception": false,
     "start_time": "2023-08-03T10:32:46.824181",
     "status": "completed"
    },
    "tags": []
   },
   "outputs": [
    {
     "name": "stdout",
     "output_type": "stream",
     "text": [
      "1/1 [==============================] - 0s 19ms/step\n",
      "------------------------------\n",
      "y true : 1\n",
      "y pred : [1]\n"
     ]
    }
   ],
   "source": [
    "single_predictions_test_data(9)"
   ]
  },
  {
   "cell_type": "code",
   "execution_count": 46,
   "id": "797aa8f4",
   "metadata": {
    "execution": {
     "iopub.execute_input": "2023-08-03T10:32:47.576164Z",
     "iopub.status.busy": "2023-08-03T10:32:47.575146Z",
     "iopub.status.idle": "2023-08-03T10:32:47.636371Z",
     "shell.execute_reply": "2023-08-03T10:32:47.634657Z"
    },
    "papermill": {
     "duration": 0.288885,
     "end_time": "2023-08-03T10:32:47.638471",
     "exception": false,
     "start_time": "2023-08-03T10:32:47.349586",
     "status": "completed"
    },
    "tags": []
   },
   "outputs": [
    {
     "name": "stdout",
     "output_type": "stream",
     "text": [
      "1/1 [==============================] - 0s 18ms/step\n",
      "------------------------------\n",
      "y true : 3\n",
      "y pred : [3]\n"
     ]
    }
   ],
   "source": [
    "single_predictions_test_data(45)"
   ]
  },
  {
   "cell_type": "code",
   "execution_count": 47,
   "id": "627f4dff",
   "metadata": {
    "execution": {
     "iopub.execute_input": "2023-08-03T10:32:48.086805Z",
     "iopub.status.busy": "2023-08-03T10:32:48.086441Z",
     "iopub.status.idle": "2023-08-03T10:32:48.092256Z",
     "shell.execute_reply": "2023-08-03T10:32:48.091164Z"
    },
    "papermill": {
     "duration": 0.230741,
     "end_time": "2023-08-03T10:32:48.094360",
     "exception": false,
     "start_time": "2023-08-03T10:32:47.863619",
     "status": "completed"
    },
    "tags": []
   },
   "outputs": [],
   "source": [
    "columns_to_delete = ['id']\n",
    "test_df = test_df.drop(columns=columns_to_delete)"
   ]
  },
  {
   "cell_type": "code",
   "execution_count": 48,
   "id": "c1ba6bbc",
   "metadata": {
    "execution": {
     "iopub.execute_input": "2023-08-03T10:32:48.546234Z",
     "iopub.status.busy": "2023-08-03T10:32:48.545884Z",
     "iopub.status.idle": "2023-08-03T10:32:48.551552Z",
     "shell.execute_reply": "2023-08-03T10:32:48.550629Z"
    },
    "papermill": {
     "duration": 0.232067,
     "end_time": "2023-08-03T10:32:48.553440",
     "exception": false,
     "start_time": "2023-08-03T10:32:48.321373",
     "status": "completed"
    },
    "tags": []
   },
   "outputs": [],
   "source": [
    "def single_predictons_new_data(index):\n",
    "    input_tensor = scaler.transform(tf.expand_dims(tf.constant(test_df.loc[index]), axis=0))\n",
    "    y_pred = tf.argmax(model3.predict(input_tensor), axis=1)\n",
    "    print(y_pred)"
   ]
  },
  {
   "cell_type": "code",
   "execution_count": 49,
   "id": "6a5ff85d",
   "metadata": {
    "execution": {
     "iopub.execute_input": "2023-08-03T10:32:49.045567Z",
     "iopub.status.busy": "2023-08-03T10:32:49.044664Z",
     "iopub.status.idle": "2023-08-03T10:32:49.114053Z",
     "shell.execute_reply": "2023-08-03T10:32:49.112684Z"
    },
    "papermill": {
     "duration": 0.296254,
     "end_time": "2023-08-03T10:32:49.116973",
     "exception": false,
     "start_time": "2023-08-03T10:32:48.820719",
     "status": "completed"
    },
    "tags": []
   },
   "outputs": [
    {
     "name": "stdout",
     "output_type": "stream",
     "text": [
      "1/1 [==============================] - 0s 18ms/step\n",
      "tf.Tensor([3], shape=(1,), dtype=int64)\n"
     ]
    },
    {
     "name": "stderr",
     "output_type": "stream",
     "text": [
      "/opt/conda/lib/python3.10/site-packages/sklearn/base.py:439: UserWarning: X does not have valid feature names, but StandardScaler was fitted with feature names\n",
      "  warnings.warn(\n"
     ]
    }
   ],
   "source": [
    "single_predictons_new_data(3)"
   ]
  },
  {
   "cell_type": "code",
   "execution_count": 50,
   "id": "00bc7c5c",
   "metadata": {
    "execution": {
     "iopub.execute_input": "2023-08-03T10:32:49.670709Z",
     "iopub.status.busy": "2023-08-03T10:32:49.670318Z",
     "iopub.status.idle": "2023-08-03T10:32:49.736668Z",
     "shell.execute_reply": "2023-08-03T10:32:49.735671Z"
    },
    "papermill": {
     "duration": 0.344153,
     "end_time": "2023-08-03T10:32:49.739317",
     "exception": false,
     "start_time": "2023-08-03T10:32:49.395164",
     "status": "completed"
    },
    "tags": []
   },
   "outputs": [
    {
     "name": "stdout",
     "output_type": "stream",
     "text": [
      "1/1 [==============================] - 0s 18ms/step\n",
      "tf.Tensor([2], shape=(1,), dtype=int64)\n"
     ]
    },
    {
     "name": "stderr",
     "output_type": "stream",
     "text": [
      "/opt/conda/lib/python3.10/site-packages/sklearn/base.py:439: UserWarning: X does not have valid feature names, but StandardScaler was fitted with feature names\n",
      "  warnings.warn(\n"
     ]
    }
   ],
   "source": [
    "single_predictons_new_data(2)"
   ]
  },
  {
   "cell_type": "code",
   "execution_count": 51,
   "id": "16dcf86d",
   "metadata": {
    "execution": {
     "iopub.execute_input": "2023-08-03T10:32:50.192782Z",
     "iopub.status.busy": "2023-08-03T10:32:50.192421Z",
     "iopub.status.idle": "2023-08-03T10:32:50.256141Z",
     "shell.execute_reply": "2023-08-03T10:32:50.254847Z"
    },
    "papermill": {
     "duration": 0.292983,
     "end_time": "2023-08-03T10:32:50.258998",
     "exception": false,
     "start_time": "2023-08-03T10:32:49.966015",
     "status": "completed"
    },
    "tags": []
   },
   "outputs": [
    {
     "name": "stdout",
     "output_type": "stream",
     "text": [
      "1/1 [==============================] - 0s 18ms/step\n",
      "tf.Tensor([1], shape=(1,), dtype=int64)\n"
     ]
    },
    {
     "name": "stderr",
     "output_type": "stream",
     "text": [
      "/opt/conda/lib/python3.10/site-packages/sklearn/base.py:439: UserWarning: X does not have valid feature names, but StandardScaler was fitted with feature names\n",
      "  warnings.warn(\n"
     ]
    }
   ],
   "source": [
    "single_predictons_new_data(34)"
   ]
  },
  {
   "cell_type": "markdown",
   "id": "eb620b61",
   "metadata": {
    "papermill": {
     "duration": 0.223125,
     "end_time": "2023-08-03T10:32:50.711584",
     "exception": false,
     "start_time": "2023-08-03T10:32:50.488459",
     "status": "completed"
    },
    "tags": []
   },
   "source": [
    "## Saving the Model"
   ]
  },
  {
   "cell_type": "code",
   "execution_count": 52,
   "id": "736b1597",
   "metadata": {
    "execution": {
     "iopub.execute_input": "2023-08-03T10:32:51.160454Z",
     "iopub.status.busy": "2023-08-03T10:32:51.159158Z",
     "iopub.status.idle": "2023-08-03T10:32:51.214633Z",
     "shell.execute_reply": "2023-08-03T10:32:51.213700Z"
    },
    "papermill": {
     "duration": 0.282987,
     "end_time": "2023-08-03T10:32:51.216735",
     "exception": false,
     "start_time": "2023-08-03T10:32:50.933748",
     "status": "completed"
    },
    "tags": []
   },
   "outputs": [],
   "source": [
    "model3.save('mobile_price_classification_model.h5')"
   ]
  }
 ],
 "metadata": {
  "kernelspec": {
   "display_name": "Python 3",
   "language": "python",
   "name": "python3"
  },
  "language_info": {
   "codemirror_mode": {
    "name": "ipython",
    "version": 3
   },
   "file_extension": ".py",
   "mimetype": "text/x-python",
   "name": "python",
   "nbconvert_exporter": "python",
   "pygments_lexer": "ipython3",
   "version": "3.10.12"
  },
  "papermill": {
   "default_parameters": {},
   "duration": 183.013531,
   "end_time": "2023-08-03T10:32:55.156741",
   "environment_variables": {},
   "exception": null,
   "input_path": "__notebook__.ipynb",
   "output_path": "__notebook__.ipynb",
   "parameters": {},
   "start_time": "2023-08-03T10:29:52.143210",
   "version": "2.4.0"
  }
 },
 "nbformat": 4,
 "nbformat_minor": 5
}
